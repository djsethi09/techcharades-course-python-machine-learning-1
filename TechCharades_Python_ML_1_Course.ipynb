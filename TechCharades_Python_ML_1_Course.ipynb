{
  "nbformat": 4,
  "nbformat_minor": 0,
  "metadata": {
    "colab": {
      "name": "TechCharades-Python-ML-1-Course.ipynb",
      "provenance": [],
      "toc_visible": true
    },
    "kernelspec": {
      "name": "python3",
      "display_name": "Python 3"
    }
  },
  "cells": [
    {
      "cell_type": "markdown",
      "metadata": {
        "id": "zmGckwb7wL-i"
      },
      "source": [
        "# Hello Python"
      ]
    },
    {
      "cell_type": "markdown",
      "metadata": {
        "id": "h1PKABbGBl0z"
      },
      "source": [
        "\n",
        "\n",
        "*   Check Python Interpreter version\n",
        "*   Print Hello World\n",
        "*   Comments\n",
        "*   Statements\n",
        "*   Blocks\n",
        "\n"
      ]
    },
    {
      "cell_type": "markdown",
      "metadata": {
        "id": "H1XXXusM7yt0"
      },
      "source": [
        "This is Colab by Google, where we can execute our python code in python notebooks.\n",
        "To execute the shell (terminal) command we can use \"!\" in the beginning.\n",
        "Lets check the version we have installed on this colab instance"
      ]
    },
    {
      "cell_type": "code",
      "metadata": {
        "id": "UebFmrbQwQTH"
      },
      "source": [
        "!python --version #only on colab - this is shell command beginning with ! , NOT the python code"
      ],
      "execution_count": null,
      "outputs": []
    },
    {
      "cell_type": "markdown",
      "metadata": {
        "id": "ZIXGjS828TAW"
      },
      "source": [
        "Hello World is the easiest program to start with a new language!\n",
        "And, Python makes it the most easiest to do..."
      ]
    },
    {
      "cell_type": "code",
      "metadata": {
        "id": "DXKXIx5M8OPU"
      },
      "source": [
        "print(\"Hello Python programmers!\") #Just open your python terminal and use this \"print\" method"
      ],
      "execution_count": null,
      "outputs": []
    },
    {
      "cell_type": "markdown",
      "metadata": {
        "id": "CGf6Au7N8ieZ"
      },
      "source": [
        "How about **comments**? You already saw # is used for single line comments\n",
        "Use \"\"\" ...\"\"\" to add multi line comments"
      ]
    },
    {
      "cell_type": "code",
      "metadata": {
        "id": "iIZ_ZJHd-Voz"
      },
      "source": [
        "print(\"MultiLine comments\")\n",
        "\"\"\"\n",
        "Do not execute this\n",
        "First commented out line\n",
        "Second\n",
        "Third\n",
        "\"\"\"\n",
        "print(\"Now Single Line Comment\")\n",
        "#print(\"Do not print this line\")"
      ],
      "execution_count": null,
      "outputs": []
    },
    {
      "cell_type": "markdown",
      "metadata": {
        "id": "xbIhhJK1-zLG"
      },
      "source": [
        "What about **Statements**?\n",
        "The Famous \";\" joke is not required for Python\n",
        "It is optional to end your statement with \";\", in fact it is useless, if you only have 1 statement per line.\n",
        "It is required to combile multiple statements in single line"
      ]
    },
    {
      "cell_type": "code",
      "metadata": {
        "id": "iJTKtExi_WZ5"
      },
      "source": [
        "print(\"Semicolon at the end of Statement is useless here\");\n",
        "a=1;print(\"Semicolon required if we have consecutive statements in single line\") #try executing this without ;"
      ],
      "execution_count": null,
      "outputs": []
    },
    {
      "cell_type": "markdown",
      "metadata": {
        "id": "NPRGyckYASC6"
      },
      "source": [
        "**Blocks in Python?**\n",
        "Many other languages use {} to define the blocks, which is the group of statements.\n",
        "Python relies on ***Indentation*** for Blocks, and like \";\", \n",
        "\"{}\" is not a part of Python syntax"
      ]
    },
    {
      "cell_type": "code",
      "metadata": {
        "id": "v7qNcM0vAs0V"
      },
      "source": [
        "x = 1\n",
        "if x == 1:\n",
        "    # indented four spaces, try removing all the spaces from next line\n",
        "    print(\"x is 1.\") "
      ],
      "execution_count": null,
      "outputs": []
    },
    {
      "cell_type": "markdown",
      "metadata": {
        "id": "-TwpxsRNTV5Y"
      },
      "source": [
        "\n",
        "**Self Study**\n",
        "* What is Interpreter and Compiler?\n",
        "* Python is Interpreted or Compiled?\n",
        "\n",
        "**Self Practice**\n",
        "* Try Printing Numbers\n",
        "* Can you use single quotes for Print string?\n"
      ]
    },
    {
      "cell_type": "markdown",
      "metadata": {
        "id": "u7vru-IsEKef"
      },
      "source": [
        "# Building Blocks of Python Program"
      ]
    },
    {
      "cell_type": "markdown",
      "metadata": {
        "id": "M0VZepsOEomP"
      },
      "source": [
        "All a program does is play with some data as input and provide some another data as output OR just executes without returning anything.\n",
        "But DATA is needed ingredient.\n",
        "\n",
        "\n",
        "*   How to Store a data? - In a named variable/constant\n",
        "*   What is Variable? - Refernce to memory location\n",
        "*   How to Name a Variable? \n",
        " \n",
        "\n",
        "\n",
        "\n"
      ]
    },
    {
      "cell_type": "markdown",
      "metadata": {
        "id": "Gg5FsoD_HbpZ"
      },
      "source": [
        "Python Naming Conventions\n",
        "1. **General**\n",
        "\n",
        "    Avoid using names that are too general or too wordy. Strike a good balance between the two.\n",
        "    Bad: data_structure, my_list, info_map, dictionary_for_the_purpose_of_storing_data_representing_word_definitions\n",
        "    Good: user_profile, menu_options, word_definitions\n",
        "    Don’t be a jackass and name things “O”, “l”, or “I”\n",
        "    When using CamelCase names, capitalize all letters of an abbreviation (e.g. HTTPServer)\n",
        "\n",
        "2. **Packages**\n",
        "\n",
        "    Package names should be all lower case\n",
        "    When multiple words are needed, an underscore should separate them\n",
        "    It is usually preferable to stick to 1 word names\n",
        "\n",
        "3. **Modules**\n",
        "\n",
        "    Module names should be all lower case\n",
        "    When multiple words are needed, an underscore should separate them\n",
        "    It is usually preferable to stick to 1 word names\n",
        "\n",
        "4. **Classes**\n",
        "\n",
        "    Class names should follow the UpperCaseCamelCase convention\n",
        "    Python’s built-in classes, however are typically lowercase words\n",
        "    Exception classes should end in “Error”\n",
        "\n",
        "5. **Global (module-level) Variables**\n",
        "\n",
        "    Global variables should be all lowercase\n",
        "    Words in a global variable name should be separated by an underscore\n",
        "\n",
        "6. **Instance Variables**\n",
        "\n",
        "    Instance variable names should be all lower case\n",
        "    Words in an instance variable name should be separated by an underscore\n",
        "    Non-public instance variables should begin with a single underscore\n",
        "    If an instance name needs to be mangled, two underscores may begin its name\n",
        "\n",
        "7. **Methods**\n",
        "\n",
        "    Method names should be all lower case\n",
        "    Words in an method name should be separated by an underscore\n",
        "    Non-public method should begin with a single underscore\n",
        "    If a method name needs to be mangled, two underscores may begin its name\n",
        "\n",
        "8. **Method Arguments**\n",
        "\n",
        "    Instance methods should have their first argument named ‘self’.\n",
        "    Class methods should have their first argument named ‘cls’\n",
        "\n",
        "9. **Functions**\n",
        "\n",
        "    Function names should be all lower case\n",
        "    Words in a function name should be separated by an underscore\n",
        "\n",
        "10. **Constants**\n",
        "\n",
        "    Constant names must be fully capitalized\n",
        "    Words in a constant name should be separated by an underscore\n",
        "\n"
      ]
    },
    {
      "cell_type": "markdown",
      "metadata": {
        "id": "6zKISvLTLlx0"
      },
      "source": [
        "\n",
        "\n",
        "*   Declare a variable\n",
        "*   Assign a variable\n",
        "*   Notice that Data Type is not required, means it can be re-assigned\n",
        "\n"
      ]
    },
    {
      "cell_type": "code",
      "metadata": {
        "id": "c76pZ7X4E7Ge"
      },
      "source": [
        "variable = 1 #Declare a variable with a name , And Assign the value to it with Assignment Operator \"=\"\n",
        "this_is_also_a_variable = 'String Variable'\n",
        "_this_as_well = 'Starting with _'\n",
        "#9_variable = 'This is invalid'"
      ],
      "execution_count": null,
      "outputs": []
    },
    {
      "cell_type": "code",
      "metadata": {
        "id": "HdwGrW10Izhp"
      },
      "source": [
        "a = b =c =1 #will assign all the variables with 1"
      ],
      "execution_count": null,
      "outputs": []
    },
    {
      "cell_type": "code",
      "metadata": {
        "id": "ymDTbye-LeEh"
      },
      "source": [
        "#redeclaring the variable is allowed\n",
        "print(a)\n",
        "a='Redeclared value'\n",
        "print(a)"
      ],
      "execution_count": null,
      "outputs": []
    },
    {
      "cell_type": "code",
      "metadata": {
        "id": "6KWgHNecIqLX"
      },
      "source": [
        "PI = 3.41 #Constant can still be re-assigned, but conventionally, constants are defined in separate file and them imported\n",
        "print(PI)"
      ],
      "execution_count": null,
      "outputs": []
    },
    {
      "cell_type": "markdown",
      "metadata": {
        "id": "HPSKavJAUny4"
      },
      "source": [
        "Self Study\n",
        "\n",
        "\n",
        "*   CamelCase vs PascalCase vs Snake Case\n",
        "\n",
        "Self Practice\n",
        "* Try atleast 10 different illegal names to the variables\n",
        "* Decide yourself, what is your preferred casing convention\n",
        "\n"
      ]
    },
    {
      "cell_type": "markdown",
      "metadata": {
        "id": "AasJrZTw30Xh"
      },
      "source": [
        "# Basic Types of Data? and Operators"
      ]
    },
    {
      "cell_type": "markdown",
      "metadata": {
        "id": "YnTHUO1nH1lg"
      },
      "source": [
        "What are the types of data?\n",
        "Each variable has a value that it stores. Each value has some type linked to it.\n",
        "\n",
        "Lets just start with primitive, scalar data types..."
      ]
    },
    {
      "cell_type": "code",
      "metadata": {
        "id": "A2E15zWMHzPV"
      },
      "source": [
        "no_of_cores = 4 #Numeric Integer type\n",
        "type(no_of_cores)"
      ],
      "execution_count": null,
      "outputs": []
    },
    {
      "cell_type": "code",
      "metadata": {
        "id": "7fbiX9QRIaDy"
      },
      "source": [
        "screen_size = 4.5 #float\n",
        "type(screen_size)"
      ],
      "execution_count": null,
      "outputs": []
    },
    {
      "cell_type": "code",
      "metadata": {
        "id": "97ClviB_JJC2"
      },
      "source": [
        "is_liked = True #boolean True/False\n",
        "type(is_liked)"
      ],
      "execution_count": null,
      "outputs": []
    },
    {
      "cell_type": "code",
      "metadata": {
        "id": "LOwDlS8AJW5Y"
      },
      "source": [
        "brand_name = 'Nokia' #string\n",
        "type(brand_name)"
      ],
      "execution_count": null,
      "outputs": []
    },
    {
      "cell_type": "markdown",
      "metadata": {
        "id": "lm-bAtLDS7uP"
      },
      "source": [
        "Lets do operations on these data types\n",
        " \n",
        "*    Arithmetic operators\n",
        "*    Assignment operators\n",
        "*    Comparison operators\n",
        "*    Logical operators\n",
        "*    Identity operators\n",
        "*    Membership operators\n",
        "*    Bitwise operators\n"
      ]
    },
    {
      "cell_type": "code",
      "metadata": {
        "id": "RKfFNCtPTZAq"
      },
      "source": [
        "just_another_number = 4\n",
        "just_another_float = 5.4"
      ],
      "execution_count": null,
      "outputs": []
    },
    {
      "cell_type": "code",
      "metadata": {
        "id": "6QZdxAJFU2Us"
      },
      "source": [
        "summation = screen_size+just_another_number\n",
        "print(summation)"
      ],
      "execution_count": null,
      "outputs": []
    },
    {
      "cell_type": "code",
      "metadata": {
        "id": "-vDuafc3VCVY"
      },
      "source": [
        "subtraction = screen_size-just_another_number\n",
        "print(subtraction)"
      ],
      "execution_count": null,
      "outputs": []
    },
    {
      "cell_type": "code",
      "metadata": {
        "id": "2m4uA2_rVIX4"
      },
      "source": [
        "product = screen_size*just_another_float\n",
        "print(product)"
      ],
      "execution_count": null,
      "outputs": []
    },
    {
      "cell_type": "code",
      "metadata": {
        "id": "vqrFMRPTVO-I"
      },
      "source": [
        "division = screen_size/just_another_number\n",
        "print(division)"
      ],
      "execution_count": null,
      "outputs": []
    },
    {
      "cell_type": "code",
      "metadata": {
        "id": "e10jObeDVXvU"
      },
      "source": [
        "remainder = screen_size%just_another_number\n",
        "print(remainder)"
      ],
      "execution_count": null,
      "outputs": []
    },
    {
      "cell_type": "code",
      "metadata": {
        "id": "QvCh5D7zVpMw"
      },
      "source": [
        "to_the_power = no_of_cores**2\n",
        "print(to_the_power)\n",
        "to_the_power = no_of_cores**4\n",
        "print(to_the_power)"
      ],
      "execution_count": null,
      "outputs": []
    },
    {
      "cell_type": "code",
      "metadata": {
        "id": "Mw0rATk5V1vS"
      },
      "source": [
        "floor_division = no_of_cores//2\n",
        "print(floor_division)\n",
        "floor_division = 3//2\n",
        "print(floor_division)"
      ],
      "execution_count": null,
      "outputs": []
    },
    {
      "cell_type": "markdown",
      "metadata": {
        "id": "Yxx6yLvFW8YE"
      },
      "source": [
        "Assignment Operators, all above operators have SHORTHAND ways to use"
      ]
    },
    {
      "cell_type": "code",
      "metadata": {
        "id": "kEfGTdBhYgPe"
      },
      "source": [
        "no_of_cores = 3 #simple assignment"
      ],
      "execution_count": null,
      "outputs": []
    },
    {
      "cell_type": "code",
      "metadata": {
        "id": "lM-Udsj3W77W"
      },
      "source": [
        "screen_size = screen_size+2\n",
        "screen_size += 2 #same as above\n",
        "print(screen_size)"
      ],
      "execution_count": null,
      "outputs": []
    },
    {
      "cell_type": "code",
      "metadata": {
        "id": "IYYz19W0X1pz",
        "outputId": "ac9e6edd-65ed-408d-9adc-397fc98800dd",
        "colab": {
          "base_uri": "https://localhost:8080/",
          "height": 34
        }
      },
      "source": [
        "screen_size = screen_size-2\n",
        "screen_size -= 2 #same as above\n",
        "print(screen_size)"
      ],
      "execution_count": null,
      "outputs": [
        {
          "output_type": "stream",
          "text": [
            "4.5\n"
          ],
          "name": "stdout"
        }
      ]
    },
    {
      "cell_type": "code",
      "metadata": {
        "id": "QSqnqVv-X6dt",
        "outputId": "dff26668-0752-4335-a0fc-dcbb6c5f75e7",
        "colab": {
          "base_uri": "https://localhost:8080/",
          "height": 34
        }
      },
      "source": [
        "#to_the_power = no_of_cores**2\n",
        "no_of_cores **= 2\n",
        "print(no_of_cores)"
      ],
      "execution_count": null,
      "outputs": [
        {
          "output_type": "stream",
          "text": [
            "16\n"
          ],
          "name": "stdout"
        }
      ]
    },
    {
      "cell_type": "markdown",
      "metadata": {
        "id": "UslgsOfOYc9j"
      },
      "source": [
        "Comparisons"
      ]
    },
    {
      "cell_type": "code",
      "metadata": {
        "id": "GOAjKLmAYnfo",
        "outputId": "cf13bc65-7cf9-44e3-f02f-d4e6576585ff",
        "colab": {
          "base_uri": "https://localhost:8080/",
          "height": 52
        }
      },
      "source": [
        "just_another_bool = False\n",
        "are_bool_equal = just_another_bool == is_liked\n",
        "print(are_bool_equal) #they are not equal\n",
        "no_of_cores = 2\n",
        "is_dual_core = no_of_cores == 2\n",
        "print(is_dual_core)\n"
      ],
      "execution_count": null,
      "outputs": [
        {
          "output_type": "stream",
          "text": [
            "False\n",
            "True\n"
          ],
          "name": "stdout"
        }
      ]
    },
    {
      "cell_type": "code",
      "metadata": {
        "id": "y_ISxKVtZLUT",
        "outputId": "3e032bf0-ed15-4c71-a155-2242f5447a23",
        "colab": {
          "base_uri": "https://localhost:8080/",
          "height": 69
        }
      },
      "source": [
        "print(no_of_cores!=2)\n",
        "print(screen_size<4)\n",
        "print(screen_size<=4.5)"
      ],
      "execution_count": null,
      "outputs": [
        {
          "output_type": "stream",
          "text": [
            "False\n",
            "False\n",
            "True\n"
          ],
          "name": "stdout"
        }
      ]
    },
    {
      "cell_type": "markdown",
      "metadata": {
        "id": "TEYyckGEZwwQ"
      },
      "source": [
        "Logical Operators - and, or, not"
      ]
    },
    {
      "cell_type": "code",
      "metadata": {
        "id": "MLsbTLs3Zwae",
        "outputId": "c1da9f0e-9117-41c8-88c6-fd115ed7a19c",
        "colab": {
          "base_uri": "https://localhost:8080/",
          "height": 86
        }
      },
      "source": [
        "is_screen_and_cores_good = no_of_cores>2 and screen_size>4\n",
        "print(is_screen_and_cores_good)\n",
        "is_phone_good = no_of_cores>2 or screen_size>4 or is_liked\n",
        "print(is_phone_good)\n",
        "is_phone_good_and_liked = (no_of_cores>2 or screen_size>4) and is_liked\n",
        "print(is_phone_good_and_liked)\n",
        "is_phone_bad = not(is_phone_good_and_liked)\n",
        "print(is_phone_bad)"
      ],
      "execution_count": null,
      "outputs": [
        {
          "output_type": "stream",
          "text": [
            "False\n",
            "True\n",
            "True\n",
            "False\n"
          ],
          "name": "stdout"
        }
      ]
    },
    {
      "cell_type": "markdown",
      "metadata": {
        "id": "frXF78sZVZ5O"
      },
      "source": [
        "Self Study\n",
        "* Learn about Operator Precedence (BODMAS formula in maths)\n",
        "* What are Bitwise operators?\n",
        "\n",
        "Self Practice\n",
        "* Try out expressions with multiple operators and find out if the precedence works fine"
      ]
    },
    {
      "cell_type": "markdown",
      "metadata": {
        "id": "6z_8tTXTTMSL"
      },
      "source": [
        "# Complex Data Types"
      ]
    },
    {
      "cell_type": "markdown",
      "metadata": {
        "id": "bTgNZoU6K3B_"
      },
      "source": [
        "Complex data types\n",
        "1. List - collection which is ordered and **mutable**. Allows duplicate members.\n",
        "2. Tuples - collection which is ordered and **immutable**. Allows duplicate members.\n",
        "3. Sets - collection which is unordered and unindexed. **No duplicate** members.\n",
        "4. Dictionary - collection which is unordered, changeable and indexed. No duplicate members."
      ]
    },
    {
      "cell_type": "code",
      "metadata": {
        "id": "D56L085SJk-R",
        "outputId": "b484027d-fefc-492a-a5d8-5d06577ec254",
        "colab": {
          "base_uri": "https://localhost:8080/",
          "height": 34
        }
      },
      "source": [
        "my_phone_info = ['Nokia',4.5,4,True]\n",
        "type(my_phone_info)\n",
        "print(my_phone_info)"
      ],
      "execution_count": null,
      "outputs": [
        {
          "output_type": "stream",
          "text": [
            "['Nokia', 4.5, 4, True]\n"
          ],
          "name": "stdout"
        }
      ]
    },
    {
      "cell_type": "markdown",
      "metadata": {
        "id": "-GiHo43fPeDd"
      },
      "source": [
        "Access the values of List/Tuple/Sets\n",
        "By Index, or Index Range"
      ]
    },
    {
      "cell_type": "code",
      "metadata": {
        "id": "8-EV6F_yPdtb",
        "outputId": "21f8a15c-3106-4c2a-ef62-57e805692eeb",
        "colab": {
          "base_uri": "https://localhost:8080/",
          "height": 69
        }
      },
      "source": [
        "print(my_phone_info[0]) #by Index 0 = first element\n",
        "print(my_phone_info[-1]) #last element, in reverse order\n",
        "print(my_phone_info[3]) # also the last element"
      ],
      "execution_count": null,
      "outputs": [
        {
          "output_type": "stream",
          "text": [
            "Nokia\n",
            "True\n",
            "True\n"
          ],
          "name": "stdout"
        }
      ]
    },
    {
      "cell_type": "code",
      "metadata": {
        "id": "YyGeWyRDQ7v6",
        "outputId": "26cd77c6-be85-4559-90f5-98d441de7187",
        "colab": {
          "base_uri": "https://localhost:8080/",
          "height": 104
        }
      },
      "source": [
        "print(my_phone_info[0:2]) #by range\n",
        "print(my_phone_info[0:])\n",
        "print(my_phone_info[:2])\n",
        "print(my_phone_info[1:3])\n",
        "print(my_phone_info[:])"
      ],
      "execution_count": null,
      "outputs": [
        {
          "output_type": "stream",
          "text": [
            "['Nokia', 4.5]\n",
            "['Nokia', 4.5, 4, True]\n",
            "['Nokia', 4.5]\n",
            "[4.5, 4]\n",
            "['Nokia', 4.5, 4, True]\n"
          ],
          "name": "stdout"
        }
      ]
    },
    {
      "cell_type": "markdown",
      "metadata": {
        "id": "xk2IpYRtRWOR"
      },
      "source": [
        "Assignment of List to another variable works as same reference. Lets see what we mean by it"
      ]
    },
    {
      "cell_type": "code",
      "metadata": {
        "id": "-HGPOwuBRdep",
        "outputId": "2662303d-447f-4fed-8a1d-c0652d6cb08e",
        "colab": {
          "base_uri": "https://localhost:8080/",
          "height": 52
        }
      },
      "source": [
        "my_new_phone_info = my_phone_info\n",
        "print(my_new_phone_info)\n",
        "my_phone_info[3] = False\n",
        "print(my_phone_info)\n",
        "print(my_new_phone_info) #What? This also got changed... because we literally assigned the same reference to a new named variable\n"
      ],
      "execution_count": null,
      "outputs": [
        {
          "output_type": "stream",
          "text": [
            "['Nokia', 4.5, 4, False]\n",
            "['Nokia', 4.5, 4, False]\n"
          ],
          "name": "stdout"
        }
      ]
    },
    {
      "cell_type": "code",
      "metadata": {
        "id": "JPcHoUTeR-P6",
        "outputId": "c0be7283-55be-4fa7-a7ea-ea2021878b05",
        "colab": {
          "base_uri": "https://localhost:8080/",
          "height": 52
        }
      },
      "source": [
        "my_new_phone_info = list(my_phone_info) #Correct way to duplicate a list as new variable\n",
        "my_new_phone_info[3] = True\n",
        "my_phone_info[0] = 'Nokia 6.1'\n",
        "print(my_phone_info)\n",
        "print(my_new_phone_info)"
      ],
      "execution_count": null,
      "outputs": [
        {
          "output_type": "stream",
          "text": [
            "['Nokia 6.1', 4.5, 4, False]\n",
            "['Nokia', 4.5, 4, True]\n"
          ],
          "name": "stdout"
        }
      ]
    },
    {
      "cell_type": "code",
      "metadata": {
        "id": "pZvxb7G8SRXx",
        "outputId": "7c800dc7-a9c1-4732-a097-2b14854f40fd",
        "colab": {
          "base_uri": "https://localhost:8080/",
          "height": 34
        }
      },
      "source": [
        "extra_features = ['120 gm',4.55]\n",
        "concatenated_details = my_new_phone_info+extra_features\n",
        "print(concatenated_details)"
      ],
      "execution_count": null,
      "outputs": [
        {
          "output_type": "stream",
          "text": [
            "['Nokia', 4.5, 4, True, '120 gm', 4.55]\n"
          ],
          "name": "stdout"
        }
      ]
    },
    {
      "cell_type": "markdown",
      "metadata": {
        "id": "EsPwGWmGlaSx"
      },
      "source": [
        "Tuples"
      ]
    },
    {
      "cell_type": "code",
      "metadata": {
        "id": "RIORHQQgkK2H",
        "outputId": "215bb6f0-29b6-460a-cf2f-6eb0c4eba6e2",
        "colab": {
          "base_uri": "https://localhost:8080/",
          "height": 34
        }
      },
      "source": [
        "my_phone_info_tuple = ('Nokia',4.5,4,True)\n",
        "type(my_phone_info_tuple)"
      ],
      "execution_count": null,
      "outputs": [
        {
          "output_type": "execute_result",
          "data": {
            "text/plain": [
              "tuple"
            ]
          },
          "metadata": {
            "tags": []
          },
          "execution_count": 58
        }
      ]
    },
    {
      "cell_type": "code",
      "metadata": {
        "id": "VAqzkk6Hl9iV",
        "outputId": "40c41008-94de-412b-8e71-4703d14bbbbd",
        "colab": {
          "base_uri": "https://localhost:8080/",
          "height": 167
        }
      },
      "source": [
        "my_phone_info_tuple[3] = False #error here"
      ],
      "execution_count": null,
      "outputs": [
        {
          "output_type": "error",
          "ename": "TypeError",
          "evalue": "ignored",
          "traceback": [
            "\u001b[0;31m---------------------------------------------------------------------------\u001b[0m",
            "\u001b[0;31mTypeError\u001b[0m                                 Traceback (most recent call last)",
            "\u001b[0;32m<ipython-input-59-0b6aa34e0708>\u001b[0m in \u001b[0;36m<module>\u001b[0;34m()\u001b[0m\n\u001b[0;32m----> 1\u001b[0;31m \u001b[0mmy_phone_info_tuple\u001b[0m\u001b[0;34m[\u001b[0m\u001b[0;36m3\u001b[0m\u001b[0;34m]\u001b[0m \u001b[0;34m=\u001b[0m \u001b[0;32mFalse\u001b[0m \u001b[0;31m#error here\u001b[0m\u001b[0;34m\u001b[0m\u001b[0;34m\u001b[0m\u001b[0m\n\u001b[0m",
            "\u001b[0;31mTypeError\u001b[0m: 'tuple' object does not support item assignment"
          ]
        }
      ]
    },
    {
      "cell_type": "markdown",
      "metadata": {
        "id": "QW8qL2A0mLHJ"
      },
      "source": [
        "Why do we needed Tuple, whats the benefit of having an immutable list? Checkout the Time differences in below examples"
      ]
    },
    {
      "cell_type": "code",
      "metadata": {
        "id": "j_TFa5dtmMu3"
      },
      "source": [
        "import time"
      ],
      "execution_count": null,
      "outputs": []
    },
    {
      "cell_type": "code",
      "metadata": {
        "id": "SelQOSuZmPS_",
        "outputId": "7cd25557-22f3-4f9d-9f62-9a84725c5e3a",
        "colab": {
          "base_uri": "https://localhost:8080/",
          "height": 34
        }
      },
      "source": [
        "my_tuple = tuple(range(1000000))\n",
        "tic = time.time()\n",
        "my_tuple_squared = map(lambda x:x**2,my_tuple)\n",
        "toc = time.time()\n",
        "print('Elapsed time in tuple: ',toc-tic)"
      ],
      "execution_count": null,
      "outputs": [
        {
          "output_type": "stream",
          "text": [
            "Elapsed time in tuple:  0.017552852630615234\n"
          ],
          "name": "stdout"
        }
      ]
    },
    {
      "cell_type": "code",
      "metadata": {
        "id": "c231ntwLmTHa",
        "outputId": "188ea4db-e943-479f-ec68-53b0bd7d984e",
        "colab": {
          "base_uri": "https://localhost:8080/",
          "height": 34
        }
      },
      "source": [
        "my_list = list(range(1000000))\n",
        "tic = time.time()\n",
        "my_list_squared = map(lambda x:x**2,my_list)\n",
        "toc = time.time()\n",
        "print('Elapsed time in list: ',toc-tic)"
      ],
      "execution_count": null,
      "outputs": [
        {
          "output_type": "stream",
          "text": [
            "Elapsed time in list:  0.010647058486938477\n"
          ],
          "name": "stdout"
        }
      ]
    },
    {
      "cell_type": "markdown",
      "metadata": {
        "id": "k5c2FT4hnL0S"
      },
      "source": [
        "Sets\n"
      ]
    },
    {
      "cell_type": "code",
      "metadata": {
        "id": "8G2yAv-RmmbR",
        "outputId": "6e6f7dbd-2751-4da3-af2f-ea51fb9662d3",
        "colab": {
          "base_uri": "https://localhost:8080/",
          "height": 52
        }
      },
      "source": [
        "my_phone_set = set(my_phone_info)\n",
        "print(my_phone_set)\n",
        "new_set = {'Nokia',4.5,120,False}\n",
        "type(new_set)"
      ],
      "execution_count": null,
      "outputs": [
        {
          "output_type": "stream",
          "text": [
            "{False, 'Nokia 6.1', 4.5, 4}\n"
          ],
          "name": "stdout"
        },
        {
          "output_type": "execute_result",
          "data": {
            "text/plain": [
              "set"
            ]
          },
          "metadata": {
            "tags": []
          },
          "execution_count": 68
        }
      ]
    },
    {
      "cell_type": "markdown",
      "metadata": {
        "id": "6PH4tCK6nnSw"
      },
      "source": [
        "Why Set? Again take example of times taken"
      ]
    },
    {
      "cell_type": "code",
      "metadata": {
        "id": "56QgPo9xnqPE",
        "outputId": "386cef20-275d-4252-a085-51afde54f1ce",
        "colab": {
          "base_uri": "https://localhost:8080/",
          "height": 86
        }
      },
      "source": [
        "my_list = list(range(10000000))\n",
        "tic = time.time()\n",
        "print(11111 in my_list)\n",
        "print(919192 in my_list)\n",
        "print(126262663356563 in my_list)\n",
        "toc = time.time()\n",
        "print('Elapsed time in list: ',toc-tic)"
      ],
      "execution_count": null,
      "outputs": [
        {
          "output_type": "stream",
          "text": [
            "True\n",
            "True\n",
            "False\n",
            "Elapsed time in list:  0.11406445503234863\n"
          ],
          "name": "stdout"
        }
      ]
    },
    {
      "cell_type": "code",
      "metadata": {
        "id": "oXfL6vxenq9s",
        "outputId": "d31195ff-326b-4ee8-b0b9-aa45df959e08",
        "colab": {
          "base_uri": "https://localhost:8080/",
          "height": 86
        }
      },
      "source": [
        "my_set = set(range(10000000))\n",
        "tic = time.time()\n",
        "print(11111 in my_set)\n",
        "print(919192 in my_set)\n",
        "print(126262663356563 in my_set)\n",
        "toc = time.time()\n",
        "print('Elapsed time in set: ',toc-tic) #much less"
      ],
      "execution_count": null,
      "outputs": [
        {
          "output_type": "stream",
          "text": [
            "True\n",
            "True\n",
            "False\n",
            "Elapsed time in set:  0.00034356117248535156\n"
          ],
          "name": "stdout"
        }
      ]
    },
    {
      "cell_type": "markdown",
      "metadata": {
        "id": "5DZu30KUoD6K"
      },
      "source": [
        "Dictionary"
      ]
    },
    {
      "cell_type": "code",
      "metadata": {
        "id": "NNBCB37hoFKG",
        "outputId": "68a83818-5290-44dc-9a63-83b864f88dc3",
        "colab": {
          "base_uri": "https://localhost:8080/",
          "height": 34
        }
      },
      "source": [
        "my_phone_dict = {'brand_name':'Nokia','screen_size':4.5,'no_of_cores':3}\n",
        "my_phone_dict['no_of_cores'] = 4 #can update\n",
        "my_phone_dict['is_liked'] = True #can add new keys\n",
        "type(my_phone_dict)\n",
        "my_phone_dict.pop('is_liked') #to delete a key"
      ],
      "execution_count": null,
      "outputs": [
        {
          "output_type": "execute_result",
          "data": {
            "text/plain": [
              "True"
            ]
          },
          "metadata": {
            "tags": []
          },
          "execution_count": 39
        }
      ]
    },
    {
      "cell_type": "code",
      "metadata": {
        "id": "BdLVuUyVvmRY"
      },
      "source": [
        "extra_features_dict = dict(weight='120gm',rating=4.5)"
      ],
      "execution_count": null,
      "outputs": []
    },
    {
      "cell_type": "code",
      "metadata": {
        "id": "dunnDhdRogki",
        "outputId": "80c43eaa-6fe3-414c-edcc-64b11c2b46cb",
        "colab": {
          "base_uri": "https://localhost:8080/",
          "height": 54
        }
      },
      "source": [
        "print(my_phone_dict)"
      ],
      "execution_count": null,
      "outputs": [
        {
          "output_type": "stream",
          "text": [
            "{'brand_name': 'Nokia', 'screen_size': 4.5, 'no_of_cores': 4, 'is_liked': True}\n"
          ],
          "name": "stdout"
        }
      ]
    },
    {
      "cell_type": "markdown",
      "metadata": {
        "id": "ufSIZ4lqWJGD"
      },
      "source": [
        "Self Study\n",
        "* List Methods to manipulate the list objects : Append, Copy, Delete etc\n",
        "* Dict Methods : Copy, Get, FromKeys etc\n",
        "\n",
        "Self Practice\n",
        "* Implement above methods\n",
        "* Think about where and how, all these complex data types can be used?"
      ]
    },
    {
      "cell_type": "markdown",
      "metadata": {
        "id": "ulsPgRYZpqpp"
      },
      "source": [
        "# Conditionals, Iteration Constructs"
      ]
    },
    {
      "cell_type": "markdown",
      "metadata": {
        "id": "iahp_n0utc0N"
      },
      "source": [
        "*   Iteration through Lists\n",
        "*   For, While"
      ]
    },
    {
      "cell_type": "code",
      "metadata": {
        "id": "5j0pDBbQpxhv",
        "outputId": "c9668192-eda7-4456-ff17-1fb3ea66c506",
        "colab": {
          "base_uri": "https://localhost:8080/",
          "height": 104
        }
      },
      "source": [
        "i=0\n",
        "while i<5:\n",
        "  print(i**2)\n",
        "  i+=1"
      ],
      "execution_count": null,
      "outputs": [
        {
          "output_type": "stream",
          "text": [
            "0\n",
            "1\n",
            "4\n",
            "9\n",
            "16\n"
          ],
          "name": "stdout"
        }
      ]
    },
    {
      "cell_type": "code",
      "metadata": {
        "id": "3BwJvwm_uhPA",
        "outputId": "13a8f544-a219-4611-a1a6-90d86f68ed49",
        "colab": {
          "base_uri": "https://localhost:8080/",
          "height": 86
        }
      },
      "source": [
        "for phone_info in my_new_phone_info:\n",
        "  print(phone_info)"
      ],
      "execution_count": null,
      "outputs": [
        {
          "output_type": "stream",
          "text": [
            "Nokia\n",
            "4.5\n",
            "4\n",
            "True\n"
          ],
          "name": "stdout"
        }
      ]
    },
    {
      "cell_type": "markdown",
      "metadata": {
        "id": "1XnSrZfCvLLe"
      },
      "source": [
        "Loop through Dictionary"
      ]
    },
    {
      "cell_type": "code",
      "metadata": {
        "id": "tV-FooDAvN3z",
        "outputId": "0154c8c8-577c-471b-940a-9d484e02c9ee",
        "colab": {
          "base_uri": "https://localhost:8080/",
          "height": 156
        }
      },
      "source": [
        "for phone_info in my_phone_dict:\n",
        "  print(phone_info)\n",
        "  print(my_phone_dict[phone_info])"
      ],
      "execution_count": null,
      "outputs": [
        {
          "output_type": "stream",
          "text": [
            "brand_name\n",
            "Nokia\n",
            "screen_size\n",
            "4.5\n",
            "no_of_cores\n",
            "4\n",
            "is_liked\n",
            "True\n"
          ],
          "name": "stdout"
        }
      ]
    },
    {
      "cell_type": "code",
      "metadata": {
        "id": "oW0tvkkmwPrK",
        "outputId": "89d1d119-9e87-42b6-f5bc-c09cb7ed1cf9",
        "colab": {
          "base_uri": "https://localhost:8080/",
          "height": 86
        }
      },
      "source": [
        "for phone_info_values in my_phone_dict.values():\n",
        "  print(phone_info_values)"
      ],
      "execution_count": null,
      "outputs": [
        {
          "output_type": "stream",
          "text": [
            "Nokia\n",
            "4.5\n",
            "4\n",
            "True\n"
          ],
          "name": "stdout"
        }
      ]
    },
    {
      "cell_type": "code",
      "metadata": {
        "id": "OE--5w5UwbPE",
        "outputId": "63f42a1e-9cf8-485a-e3f6-c21163b32410",
        "colab": {
          "base_uri": "https://localhost:8080/",
          "height": 86
        }
      },
      "source": [
        "for key,value in my_phone_dict.items():\n",
        "  print(key,'=',value)"
      ],
      "execution_count": null,
      "outputs": [
        {
          "output_type": "stream",
          "text": [
            "brand_name = Nokia\n",
            "screen_size = 4.5\n",
            "no_of_cores = 4\n",
            "is_liked = True\n"
          ],
          "name": "stdout"
        }
      ]
    },
    {
      "cell_type": "markdown",
      "metadata": {
        "id": "ZW4XGZcbwuQr"
      },
      "source": [
        "Condtionals \n",
        "* If\n",
        "* Else\n",
        "* Break\n",
        "* Continue\n",
        "* pass"
      ]
    },
    {
      "cell_type": "code",
      "metadata": {
        "id": "fskvkFgTwz8M",
        "outputId": "3ded2471-9ec0-42d0-81aa-b086f839b0ab",
        "colab": {
          "base_uri": "https://localhost:8080/",
          "height": 34
        }
      },
      "source": [
        "if is_liked==True:\n",
        "  print('My phone is liked')"
      ],
      "execution_count": null,
      "outputs": [
        {
          "output_type": "stream",
          "text": [
            "My phone is liked\n"
          ],
          "name": "stdout"
        }
      ]
    },
    {
      "cell_type": "code",
      "metadata": {
        "id": "Zp38ACmJw78x",
        "outputId": "4f61528b-c3bc-4a69-f891-156081cdc888",
        "colab": {
          "base_uri": "https://localhost:8080/",
          "height": 34
        }
      },
      "source": [
        "if is_liked!=True:\n",
        "  print('My phone is liked')\n",
        "else:\n",
        "  print('My phone is poor')"
      ],
      "execution_count": null,
      "outputs": [
        {
          "output_type": "stream",
          "text": [
            "My phone is poor\n"
          ],
          "name": "stdout"
        }
      ]
    },
    {
      "cell_type": "code",
      "metadata": {
        "id": "IsPSIseQxUp5",
        "outputId": "293e3335-83a8-4363-8b38-885742360fec",
        "colab": {
          "base_uri": "https://localhost:8080/",
          "height": 382
        }
      },
      "source": [
        "for n in range(100):\n",
        "  if(n>20):\n",
        "    break\n",
        "  else:\n",
        "    print(n)"
      ],
      "execution_count": null,
      "outputs": [
        {
          "output_type": "stream",
          "text": [
            "0\n",
            "1\n",
            "2\n",
            "3\n",
            "4\n",
            "5\n",
            "6\n",
            "7\n",
            "8\n",
            "9\n",
            "10\n",
            "11\n",
            "12\n",
            "13\n",
            "14\n",
            "15\n",
            "16\n",
            "17\n",
            "18\n",
            "19\n",
            "20\n"
          ],
          "name": "stdout"
        }
      ]
    },
    {
      "cell_type": "code",
      "metadata": {
        "id": "YLzAPAJlxgrO",
        "outputId": "7e98e8fb-5152-4b79-fa37-8729531bbf9f",
        "colab": {
          "base_uri": "https://localhost:8080/",
          "height": 885
        }
      },
      "source": [
        "for n in range(100):\n",
        "  if(n%2==0):\n",
        "    continue #skip next statements, and iterate to next loop\n",
        "  print(n)"
      ],
      "execution_count": null,
      "outputs": [
        {
          "output_type": "stream",
          "text": [
            "1\n",
            "3\n",
            "5\n",
            "7\n",
            "9\n",
            "11\n",
            "13\n",
            "15\n",
            "17\n",
            "19\n",
            "21\n",
            "23\n",
            "25\n",
            "27\n",
            "29\n",
            "31\n",
            "33\n",
            "35\n",
            "37\n",
            "39\n",
            "41\n",
            "43\n",
            "45\n",
            "47\n",
            "49\n",
            "51\n",
            "53\n",
            "55\n",
            "57\n",
            "59\n",
            "61\n",
            "63\n",
            "65\n",
            "67\n",
            "69\n",
            "71\n",
            "73\n",
            "75\n",
            "77\n",
            "79\n",
            "81\n",
            "83\n",
            "85\n",
            "87\n",
            "89\n",
            "91\n",
            "93\n",
            "95\n",
            "97\n",
            "99\n"
          ],
          "name": "stdout"
        }
      ]
    },
    {
      "cell_type": "code",
      "metadata": {
        "id": "cEBcL9oBxz-7",
        "outputId": "a68ede4e-bc30-4ec9-85a8-4f3094c21812",
        "colab": {
          "base_uri": "https://localhost:8080/",
          "height": 364
        }
      },
      "source": [
        "for n in range(10):\n",
        "  for m in range(2):\n",
        "    print(m,n)"
      ],
      "execution_count": null,
      "outputs": [
        {
          "output_type": "stream",
          "text": [
            "0 0\n",
            "1 0\n",
            "0 1\n",
            "1 1\n",
            "0 2\n",
            "1 2\n",
            "0 3\n",
            "1 3\n",
            "0 4\n",
            "1 4\n",
            "0 5\n",
            "1 5\n",
            "0 6\n",
            "1 6\n",
            "0 7\n",
            "1 7\n",
            "0 8\n",
            "1 8\n",
            "0 9\n",
            "1 9\n"
          ],
          "name": "stdout"
        }
      ]
    },
    {
      "cell_type": "code",
      "metadata": {
        "id": "L8kTgOkTcbdj"
      },
      "source": [
        "while True:\n",
        "  pass"
      ],
      "execution_count": null,
      "outputs": []
    },
    {
      "cell_type": "markdown",
      "metadata": {
        "id": "n5g9891jW3lG"
      },
      "source": [
        "Self Study\n",
        "* What is elif ?\n",
        "* If string is an array of characters, is it iterable?\n",
        "* What is Else in For loop?\n",
        "\n",
        "Self Practice\n",
        "* How can you form Ternary Operator?\n",
        "* Loop a string variable\n",
        "* Try Range method with more arguments"
      ]
    },
    {
      "cell_type": "markdown",
      "metadata": {
        "id": "upSiOVWAYiuz"
      },
      "source": [
        "# Methods/Functions"
      ]
    },
    {
      "cell_type": "code",
      "metadata": {
        "id": "9ewy_ZzrYqWB"
      },
      "source": [
        "def print_squares(stop_val,start_val=0):\n",
        "  sum_ = 0\n",
        "  for i in range(start_val,stop_val):\n",
        "    sum_ += i**2\n",
        "  print(sum_) #doesn't return the results, but prints the squares"
      ],
      "execution_count": null,
      "outputs": []
    },
    {
      "cell_type": "code",
      "metadata": {
        "id": "cVN-W265dmSP",
        "outputId": "cf54776b-d2fa-4224-a0c7-e47f93b26637",
        "colab": {
          "base_uri": "https://localhost:8080/",
          "height": 34
        }
      },
      "source": [
        "print_squares(4)"
      ],
      "execution_count": null,
      "outputs": [
        {
          "output_type": "stream",
          "text": [
            "14\n"
          ],
          "name": "stdout"
        }
      ]
    },
    {
      "cell_type": "code",
      "metadata": {
        "id": "j3GT9opVeBVN"
      },
      "source": [
        "def print_squares(stop_val,start_val):\n",
        "  sum_ = 0\n",
        "  for i in range(start_val,stop_val):\n",
        "    sum_ += i**2\n",
        "  return sum_ "
      ],
      "execution_count": null,
      "outputs": []
    },
    {
      "cell_type": "code",
      "metadata": {
        "id": "ntLLju8yeEiG",
        "outputId": "d7d93da4-8128-4470-e407-2386bd937a72",
        "colab": {
          "base_uri": "https://localhost:8080/",
          "height": 34
        }
      },
      "source": [
        "print_squares(4,0)"
      ],
      "execution_count": null,
      "outputs": [
        {
          "output_type": "execute_result",
          "data": {
            "text/plain": [
              "14"
            ]
          },
          "metadata": {
            "tags": []
          },
          "execution_count": 19
        }
      ]
    },
    {
      "cell_type": "code",
      "metadata": {
        "id": "G9-a7dJUemx9"
      },
      "source": [
        "def fib(n):\n",
        "  a,b = 0,1 #another way of assiging\n",
        "  print(a,b)\n",
        "  while a<n:\n",
        "    print(a,end=' ')\n",
        "    a, b = b, a+b #this actually is swapping the two numbers\n",
        "    #c = a+b\n",
        "    #a = b\n",
        "    #b = c\n",
        "  print()"
      ],
      "execution_count": null,
      "outputs": []
    },
    {
      "cell_type": "code",
      "metadata": {
        "id": "IukMT4vqnwyZ",
        "outputId": "f292d54b-6582-4167-c4e9-74a7905bfa96",
        "colab": {
          "base_uri": "https://localhost:8080/",
          "height": 52
        }
      },
      "source": [
        "fib(10)"
      ],
      "execution_count": null,
      "outputs": [
        {
          "output_type": "stream",
          "text": [
            "0 1\n",
            "0 1 1 2 3 5 8 \n"
          ],
          "name": "stdout"
        }
      ]
    },
    {
      "cell_type": "code",
      "metadata": {
        "id": "m1pKXqw5p92i"
      },
      "source": [
        "def fib(n): #arguments passed, within the scope this function block only\n",
        "  a,b = 0,1 #another way of assiging\n",
        "  result = []\n",
        "  while a<n:\n",
        "    result.append(a)\n",
        "    a, b = b, a+b #this actually is swapping the two numbers\n",
        "    #c = a+b\n",
        "    #a = b\n",
        "    #b = c\n",
        "  return result"
      ],
      "execution_count": null,
      "outputs": []
    },
    {
      "cell_type": "markdown",
      "metadata": {
        "id": "FkajsGGWutxE"
      },
      "source": [
        "Types of Arguments\n",
        "* Positional Arguments - order of arguments\n",
        "* Default Arguments - default value to an argument\n",
        "* Variable-Length Arguments - *args\n",
        "* Keyword Arguments - **kwargs just like Dictionary\n"
      ]
    },
    {
      "cell_type": "code",
      "metadata": {
        "id": "lrkG3TlMqky7",
        "outputId": "6d4d0edd-0059-4170-a6f8-fec40cc0fb87",
        "colab": {
          "base_uri": "https://localhost:8080/",
          "height": 34
        }
      },
      "source": [
        "fib(10)"
      ],
      "execution_count": null,
      "outputs": [
        {
          "output_type": "execute_result",
          "data": {
            "text/plain": [
              "[0, 1, 1, 2, 3, 5, 8]"
            ]
          },
          "metadata": {
            "tags": []
          },
          "execution_count": 17
        }
      ]
    },
    {
      "cell_type": "code",
      "metadata": {
        "id": "SQh9VEEJtAL-"
      },
      "source": [
        "def print_squares(stop_val,start_val=0): #default args, makes it optional to pass that parameter\n",
        "  sum_ = 0\n",
        "  for i in range(start_val,stop_val):\n",
        "    sum_ += i**2\n",
        "  return sum_ "
      ],
      "execution_count": null,
      "outputs": []
    },
    {
      "cell_type": "code",
      "metadata": {
        "id": "pUC6An-wtN4C",
        "outputId": "eaece0ec-1f3c-4253-e12e-dec3e5a33ccf",
        "colab": {
          "base_uri": "https://localhost:8080/",
          "height": 34
        }
      },
      "source": [
        "print_squares(3) #second arg is 0 by default, so not passed\n",
        "print_squares(3,1) #can still be passed, it will override the default value"
      ],
      "execution_count": null,
      "outputs": [
        {
          "output_type": "execute_result",
          "data": {
            "text/plain": [
              "5"
            ]
          },
          "metadata": {
            "tags": []
          },
          "execution_count": 23
        }
      ]
    },
    {
      "cell_type": "code",
      "metadata": {
        "id": "47iTm_7-xoXY"
      },
      "source": [
        "def multiply(num1,num2): #if the types of these arguments are different, ORDER of args is important - Positional\n",
        "    print(num1*num2)"
      ],
      "execution_count": null,
      "outputs": []
    },
    {
      "cell_type": "code",
      "metadata": {
        "id": "x5oc0ZGjutkj"
      },
      "source": [
        "def multiply(*args): #variable length arguments\n",
        "    z = 1\n",
        "    for num in args:\n",
        "        z *= num\n",
        "    print(z)"
      ],
      "execution_count": null,
      "outputs": []
    },
    {
      "cell_type": "code",
      "metadata": {
        "id": "DehpX6I7uDCJ",
        "outputId": "3304e335-462a-4125-9cfd-8d2e2adfd4ec",
        "colab": {
          "base_uri": "https://localhost:8080/",
          "height": 34
        }
      },
      "source": [
        "multiply(3,4,6,224)"
      ],
      "execution_count": null,
      "outputs": [
        {
          "output_type": "stream",
          "text": [
            "16128\n"
          ],
          "name": "stdout"
        }
      ]
    },
    {
      "cell_type": "code",
      "metadata": {
        "id": "1wzDBNr737ZA"
      },
      "source": [
        "def my_phone(**kwargs):\n",
        "  print(kwargs)"
      ],
      "execution_count": null,
      "outputs": []
    },
    {
      "cell_type": "code",
      "metadata": {
        "id": "IzHZfdo74FJe",
        "outputId": "af9769db-89c4-4d7a-e34e-225853f8090a",
        "colab": {
          "base_uri": "https://localhost:8080/",
          "height": 54
        }
      },
      "source": [
        "my_phone(brand_name='Nokia 6.1',screen_size=4.5,no_of_cores=4,is_liked=True)"
      ],
      "execution_count": null,
      "outputs": [
        {
          "output_type": "stream",
          "text": [
            "{'brand_name': 'Nokia 6.1', 'screen_size': 4.5, 'no_of_cores': 4, 'is_liked': True}\n"
          ],
          "name": "stdout"
        }
      ]
    },
    {
      "cell_type": "code",
      "metadata": {
        "id": "n_FziRwqxFIh"
      },
      "source": [
        "def my_phone(brand_name, screen_size,no_of_cores,is_liked):\n",
        "  print(brand_name,screen_size,no_of_cores,is_liked)"
      ],
      "execution_count": null,
      "outputs": []
    },
    {
      "cell_type": "code",
      "metadata": {
        "id": "mTbBR6DayM2v",
        "outputId": "a265c981-091b-4fb0-c808-55aaadbe094d",
        "colab": {
          "base_uri": "https://localhost:8080/",
          "height": 34
        }
      },
      "source": [
        "my_phone(brand_name='Nokia 6.1',screen_size=4.5,no_of_cores=4,is_liked=True)"
      ],
      "execution_count": null,
      "outputs": [
        {
          "output_type": "stream",
          "text": [
            "Nokia 6.1 4.5 4 True\n"
          ],
          "name": "stdout"
        }
      ]
    },
    {
      "cell_type": "code",
      "metadata": {
        "id": "TDEE-wKVyZ8a",
        "outputId": "5e350635-c496-4396-c040-4adff4b33767",
        "colab": {
          "base_uri": "https://localhost:8080/",
          "height": 34
        }
      },
      "source": [
        "my_phone(no_of_cores=4,is_liked=True,screen_size=4.5,brand_name='Nokia 6.1') #order not issue, we have the keys passed"
      ],
      "execution_count": null,
      "outputs": [
        {
          "output_type": "stream",
          "text": [
            "Nokia 6.1 4.5 4 True\n"
          ],
          "name": "stdout"
        }
      ]
    },
    {
      "cell_type": "code",
      "metadata": {
        "id": "QiXc9UhSy7c4"
      },
      "source": [
        "def mobileshop(kind, *arguments, **keywords):\n",
        "    print(\"-- Do you have any \", kind, \"?\")\n",
        "    print(\"-- I'm sorry, we're all out of\", kind)\n",
        "    for arg in arguments:\n",
        "        print(arg)\n",
        "    print(\"-\" * 40)\n",
        "    for kw in keywords:\n",
        "        print(kw, \":\", keywords[kw])"
      ],
      "execution_count": null,
      "outputs": []
    },
    {
      "cell_type": "code",
      "metadata": {
        "id": "4gp_Srng4QBe",
        "outputId": "46793935-5c7f-46e6-856d-b569677e27f8",
        "colab": {
          "base_uri": "https://localhost:8080/",
          "height": 156
        }
      },
      "source": [
        "mobileshop(\"Smartphone\", \"Must be Nokia brand\",\n",
        "           \"And atleast following features\",\n",
        "           screen_size=4.5,\n",
        "           no_of_cores=4,\n",
        "           is_liked=True)"
      ],
      "execution_count": null,
      "outputs": [
        {
          "output_type": "stream",
          "text": [
            "-- Do you have any  Smartphone ?\n",
            "-- I'm sorry, we're all out of Smartphone\n",
            "Must be Nokia brand\n",
            "And atleast following features\n",
            "----------------------------------------\n",
            "screen_size : 4.5\n",
            "no_of_cores : 4\n",
            "is_liked : True\n"
          ],
          "name": "stdout"
        }
      ]
    },
    {
      "cell_type": "code",
      "metadata": {
        "id": "TRTyydpa46Z-",
        "outputId": "3b01c1cb-269c-48f8-a7ac-d7092b1b2d1a",
        "colab": {
          "base_uri": "https://localhost:8080/",
          "height": 156
        }
      },
      "source": [
        "mobileshop(\"Smartphone\",\"Must be of Nokia brand\",\"Atleast following features\",\n",
        "           **my_phone_dict) #can also be passed as dictionary, by unpacking it with **"
      ],
      "execution_count": null,
      "outputs": [
        {
          "output_type": "stream",
          "text": [
            "-- Do you have any  Smartphone ?\n",
            "-- I'm sorry, we're all out of Smartphone\n",
            "Must be of Nokia brand\n",
            "Atleast following features\n",
            "----------------------------------------\n",
            "brand_name : Nokia\n",
            "screen_size : 4.5\n",
            "no_of_cores : 4\n"
          ],
          "name": "stdout"
        }
      ]
    },
    {
      "cell_type": "markdown",
      "metadata": {
        "id": "7ZT02IHiYDLT"
      },
      "source": [
        "Self Study\n",
        "* What is method Signature?\n",
        "\n",
        "Self Practice\n",
        "* Try rewriting Fibonacci Series with Recursive method"
      ]
    },
    {
      "cell_type": "markdown",
      "metadata": {
        "id": "lMaFmWkZJrsN"
      },
      "source": [
        "# Variable Scopes\n",
        "* Local\n",
        "* Global"
      ]
    },
    {
      "cell_type": "code",
      "metadata": {
        "id": "sSUzEM0ZJtd4",
        "outputId": "5442cf45-d0bd-4c7a-f619-f0cb4b23146e",
        "colab": {
          "base_uri": "https://localhost:8080/",
          "height": 52
        }
      },
      "source": [
        "local_x = 10 #at global scope, just named same to know the difference\n",
        "def fun():\n",
        "  local_x = 1 #at local scope, within function\n",
        "  print(local_x)\n",
        "\n",
        "fun()\n",
        "print(local_x)"
      ],
      "execution_count": null,
      "outputs": [
        {
          "output_type": "stream",
          "text": [
            "1\n",
            "10\n"
          ],
          "name": "stdout"
        }
      ]
    },
    {
      "cell_type": "code",
      "metadata": {
        "id": "XSMGfaIUKtV3",
        "outputId": "ce45b035-384f-4716-8581-713b01956d10",
        "colab": {
          "base_uri": "https://localhost:8080/",
          "height": 52
        }
      },
      "source": [
        "local_x = 10 #at global scope, just named same to know the difference\n",
        "def fun():\n",
        "  global local_x #refer to global scope variable\n",
        "  local_x = 1\n",
        "  print(local_x)\n",
        "\n",
        "fun()\n",
        "print(local_x) #it shows updated value now"
      ],
      "execution_count": null,
      "outputs": [
        {
          "output_type": "stream",
          "text": [
            "1\n",
            "1\n"
          ],
          "name": "stdout"
        }
      ]
    },
    {
      "cell_type": "markdown",
      "metadata": {
        "id": "4te2TQeTLeEa"
      },
      "source": [
        "Self Practice:\n",
        "* Try Local scope variable if it is accessible in the function within the function"
      ]
    },
    {
      "cell_type": "markdown",
      "metadata": {
        "id": "5DbJ4hzG5YF7"
      },
      "source": [
        "# Map, Reduce, Filter, Lambda"
      ]
    },
    {
      "cell_type": "markdown",
      "metadata": {
        "id": "Ooa9dx7m7Ir0"
      },
      "source": [
        "Map = it needs func is the function that will execute on each element in iterables, and iterables is variable length arg"
      ]
    },
    {
      "cell_type": "code",
      "metadata": {
        "id": "U8mtQD8F5gjo"
      },
      "source": [
        "map?\n"
      ],
      "execution_count": null,
      "outputs": []
    },
    {
      "cell_type": "code",
      "metadata": {
        "id": "Hy9bjEvF8xDz",
        "outputId": "53ff301e-c35b-4a91-d964-30a60251dd31",
        "colab": {
          "base_uri": "https://localhost:8080/",
          "height": 34
        }
      },
      "source": [
        "#lengthier way of achieving without map\n",
        "mobile_brands = ['nokia', 'apple', 'samsung', 'micromax']\n",
        "uppered_mobile_brands = []\n",
        "\n",
        "for brand in mobile_brands:\n",
        "    brand_ = brand.upper()\n",
        "    uppered_mobile_brands.append(brand_)\n",
        "\n",
        "print(uppered_mobile_brands)"
      ],
      "execution_count": null,
      "outputs": [
        {
          "output_type": "stream",
          "text": [
            "['NOKIA', 'APPLE', 'SAMSUNG', 'MICROMAX']\n"
          ],
          "name": "stdout"
        }
      ]
    },
    {
      "cell_type": "code",
      "metadata": {
        "id": "po61HdVK9PDb",
        "outputId": "235df03c-3fdf-4561-cdfa-92d11311174b",
        "colab": {
          "base_uri": "https://localhost:8080/",
          "height": 52
        }
      },
      "source": [
        "mobile_brands = ['nokia', 'apple', 'samsung', 'micromax'] # its second arg to map *iterables - list of strings\n",
        "mapped_obj = map(str.upper,mobile_brands) #returns a map object\n",
        "listed_obj = list(mapped_obj)\n",
        "print(listed_obj)\n",
        "#or in a single line\n",
        "print(list(map(str.upper,mobile_brands)))"
      ],
      "execution_count": null,
      "outputs": [
        {
          "output_type": "stream",
          "text": [
            "['NOKIA', 'APPLE', 'SAMSUNG', 'MICROMAX']\n",
            "['NOKIA', 'APPLE', 'SAMSUNG', 'MICROMAX']\n"
          ],
          "name": "stdout"
        }
      ]
    },
    {
      "cell_type": "markdown",
      "metadata": {
        "id": "y5CWjMBzCMfS"
      },
      "source": [
        "str.upper only needs 1 argument,so we just passed 1 iterable "
      ]
    },
    {
      "cell_type": "code",
      "metadata": {
        "id": "qwaBJekcC53h"
      },
      "source": [
        "round?"
      ],
      "execution_count": null,
      "outputs": []
    },
    {
      "cell_type": "code",
      "metadata": {
        "id": "1mMlPJnRCYr4",
        "outputId": "3e531380-156a-47d9-b3fc-cdce5bde1127",
        "colab": {
          "base_uri": "https://localhost:8080/",
          "height": 34
        }
      },
      "source": [
        "mobile_ratings = [3.67,4.23,3.32,1.4,2.44,5.0]\n",
        "print((list(map(round,mobile_ratings,range(1,7))))) #round needs 2 args, both will act in iteration\n"
      ],
      "execution_count": null,
      "outputs": [
        {
          "output_type": "stream",
          "text": [
            "[3.7, 4.23, 3.32, 1.4, 2.44, 5.0]\n"
          ],
          "name": "stdout"
        }
      ]
    },
    {
      "cell_type": "markdown",
      "metadata": {
        "id": "wn0omMPLD6Gt"
      },
      "source": [
        "zip - lets create a list of tuples from two lists\n"
      ]
    },
    {
      "cell_type": "code",
      "metadata": {
        "id": "FEGhvjJnEBgw",
        "outputId": "dae60a5e-c200-43f6-93ac-b125e41af548",
        "colab": {
          "base_uri": "https://localhost:8080/",
          "height": 54
        }
      },
      "source": [
        "phone_keys = ['brand_name','screen_size','no_of_cores','is_liked']\n",
        "results = list(zip(phone_keys, my_phone_info))\n",
        "print(results)"
      ],
      "execution_count": null,
      "outputs": [
        {
          "output_type": "stream",
          "text": [
            "[('brand_name', 'Nokia'), ('screen_size', 4.5), ('no_of_cores', 4), ('is_liked', True)]\n"
          ],
          "name": "stdout"
        }
      ]
    },
    {
      "cell_type": "markdown",
      "metadata": {
        "id": "Xe34bN6zGHBA"
      },
      "source": [
        "Filter"
      ]
    },
    {
      "cell_type": "code",
      "metadata": {
        "id": "j574r4rmGjti"
      },
      "source": [
        "filter?"
      ],
      "execution_count": null,
      "outputs": []
    },
    {
      "cell_type": "code",
      "metadata": {
        "id": "vcDd2mRpGoZN",
        "outputId": "3e4d8321-d7c1-4380-c015-06b28ec14b28",
        "colab": {
          "base_uri": "https://localhost:8080/",
          "height": 52
        }
      },
      "source": [
        "def is_good_rating(rating):\n",
        "  if(rating>3):\n",
        "    return True\n",
        "  return False\n",
        "filter_obj = filter(is_good_rating,mobile_ratings)\n",
        "list_filtered = list(filter_obj)\n",
        "print(list_filtered)\n",
        "#single line\n",
        "print(list(filter(is_good_rating,mobile_ratings)))"
      ],
      "execution_count": null,
      "outputs": [
        {
          "output_type": "stream",
          "text": [
            "[3.67, 4.23, 3.32, 5.0]\n",
            "[3.67, 4.23, 3.32, 5.0]\n"
          ],
          "name": "stdout"
        }
      ]
    },
    {
      "cell_type": "markdown",
      "metadata": {
        "id": "B8st1oH2IRmu"
      },
      "source": [
        "Reduce"
      ]
    },
    {
      "cell_type": "code",
      "metadata": {
        "id": "veWuETVDIP5R"
      },
      "source": [
        "reduce?"
      ],
      "execution_count": null,
      "outputs": []
    },
    {
      "cell_type": "code",
      "metadata": {
        "id": "VaJAFnxxJDfX"
      },
      "source": [
        "from functools import reduce"
      ],
      "execution_count": null,
      "outputs": []
    },
    {
      "cell_type": "code",
      "metadata": {
        "id": "3bXRw1-oJZrn",
        "outputId": "272011de-9ead-467c-fe8f-7b2ca9e7212c",
        "colab": {
          "base_uri": "https://localhost:8080/",
          "height": 52
        }
      },
      "source": [
        "mobile_prices = [8000, 60000, 9900, 11500, 45000, 105000]\n",
        "\n",
        "def total(first, second):\n",
        "    return first + second\n",
        "\n",
        "result = reduce(total, mobile_prices) #without initial value\n",
        "print(result)\n",
        "result = reduce(total, mobile_prices,500) #suppose we want to add some intial value\n",
        "print(result)"
      ],
      "execution_count": null,
      "outputs": [
        {
          "output_type": "stream",
          "text": [
            "239400\n",
            "239900\n"
          ],
          "name": "stdout"
        }
      ]
    },
    {
      "cell_type": "markdown",
      "metadata": {
        "id": "PRUI6lU0Lpm7"
      },
      "source": [
        "Lambda\n",
        "arguments:expression"
      ]
    },
    {
      "cell_type": "code",
      "metadata": {
        "id": "DU-nwPS9Lo2n",
        "outputId": "7717428d-7a3c-4bda-8e7f-57172c99f577",
        "colab": {
          "base_uri": "https://localhost:8080/",
          "height": 34
        }
      },
      "source": [
        "squares = list(map(lambda x:x**2,range(1,5))) #x = arg, : x**2 is an expression\n",
        "print(squares)"
      ],
      "execution_count": null,
      "outputs": [
        {
          "output_type": "stream",
          "text": [
            "[1, 4, 9, 16]\n"
          ],
          "name": "stdout"
        }
      ]
    },
    {
      "cell_type": "code",
      "metadata": {
        "id": "2R7PqTk2QQ7D",
        "outputId": "b6fd0043-f10c-4982-ad62-3f1b3b118f06",
        "colab": {
          "base_uri": "https://localhost:8080/",
          "height": 34
        }
      },
      "source": [
        "filteredList = list(filter(lambda x:x%2==0,squares))\n",
        "print(filteredList)"
      ],
      "execution_count": null,
      "outputs": [
        {
          "output_type": "stream",
          "text": [
            "[4, 16]\n"
          ],
          "name": "stdout"
        }
      ]
    },
    {
      "cell_type": "markdown",
      "metadata": {
        "id": "auUDzRBzYpUZ"
      },
      "source": [
        "Self Study\n",
        "* Help definitions of these methods\n",
        "\n",
        "Self Practice\n",
        "* Fix the following code\n",
        "\n",
        "```\n",
        "# This is formatted as code\n",
        "from functools import reduce \n",
        "\n",
        "# Use map to print the square of each numbers rounded\n",
        "# to two decimal places\n",
        "my_ratings = [4.35, 6.09, 3.25, 9.77, 2.16, 8.88, 4.59]\n",
        "\n",
        "# Use filter to print only the brands that are less than or equal to seven letters\n",
        "my_brands = [\"nokia\", \"apple\", \"micromax\", \"samsung\", \"oneplus2\",\"oppo\"]\n",
        "\n",
        "# Use reduce to print the product of these numbers\n",
        "my_screens = [4, 6, 9, 23, 5]\n",
        "\n",
        "# Fix all three respectively.\n",
        "map_result = list(map(lambda x: x, my_ratings))\n",
        "filter_result = list(filter(lambda name: name, my_brands, my_brands))\n",
        "reduce_result = reduce(lambda num1, num2: num1 * num2, my_screens, 0)\n",
        "\n",
        "print(map_result)\n",
        "print(filter_result)\n",
        "print(reduce_result)\n",
        "```\n",
        "\n"
      ]
    },
    {
      "cell_type": "markdown",
      "metadata": {
        "id": "YbDDdqUCQZ5U"
      },
      "source": [
        "# Packages and Modules"
      ]
    },
    {
      "cell_type": "markdown",
      "metadata": {
        "id": "v3Bz350sRlAB"
      },
      "source": [
        "Module - A file containing python code, that can be imported, can be custom or built-in\n",
        "\n",
        "Packages - Namespaces of modules, packages itself "
      ]
    },
    {
      "cell_type": "code",
      "metadata": {
        "id": "nlNLM1-6UXAp"
      },
      "source": [
        "import sys"
      ],
      "execution_count": null,
      "outputs": []
    },
    {
      "cell_type": "code",
      "metadata": {
        "id": "YvAshAIaVjwC"
      },
      "source": [
        "dir() #returns properties/attributes in current scope or in an object\n",
        "dir?\n"
      ],
      "execution_count": null,
      "outputs": []
    },
    {
      "cell_type": "code",
      "metadata": {
        "id": "akGRdxdDV9gm",
        "outputId": "772fec29-23e5-4007-f958-1ce4a8ddd660",
        "colab": {
          "base_uri": "https://localhost:8080/",
          "height": 52
        }
      },
      "source": [
        "import time\n",
        "import math as m\n",
        "print(m.factorial(10))\n",
        "from math import factorial\n",
        "print(factorial(10)) #using the built in method - optimised"
      ],
      "execution_count": null,
      "outputs": [
        {
          "output_type": "stream",
          "text": [
            "3628800\n",
            "3628800\n"
          ],
          "name": "stdout"
        }
      ]
    },
    {
      "cell_type": "code",
      "metadata": {
        "id": "UZkw7iqcWJym",
        "outputId": "c3e9c055-e6d9-42ad-f2bb-5ae7ec4b5078",
        "colab": {
          "base_uri": "https://localhost:8080/",
          "height": 52
        }
      },
      "source": [
        "#why packages ?\n",
        "vals = list(range(1,100))\n",
        "tic = time.time()\n",
        "for x in vals:\n",
        "  y=1\n",
        "  for i in range(1,100):\n",
        "    y *= i\n",
        "toc = time.time()\n",
        "print('Elapsed Time in own function ', toc-tic)\n",
        "vals = list(range(1,100))\n",
        "tic = time.time()\n",
        "for x in vals:\n",
        "  y = m.factorial(x)\n",
        "toc = time.time()\n",
        "print('Elapsed Time in package function ', toc-tic)"
      ],
      "execution_count": null,
      "outputs": [
        {
          "output_type": "stream",
          "text": [
            "Elapsed Time in own function  0.0013277530670166016\n",
            "Elapsed Time in package function  0.00010180473327636719\n"
          ],
          "name": "stdout"
        }
      ]
    },
    {
      "cell_type": "code",
      "metadata": {
        "id": "WmZGXfY4WYlv"
      },
      "source": [
        "!echo 'def hello_module():' > my_first_module.py\n",
        "!echo '  print(\"Hello Python Module!\")' >> my_first_module.py"
      ],
      "execution_count": null,
      "outputs": []
    },
    {
      "cell_type": "code",
      "metadata": {
        "id": "vy8kh6UzWlaI"
      },
      "source": [
        "dir()"
      ],
      "execution_count": null,
      "outputs": []
    },
    {
      "cell_type": "code",
      "metadata": {
        "id": "raN7iDKlXJ7Q",
        "outputId": "9a1ee9e4-5e89-4401-968a-c22105142cff",
        "colab": {
          "base_uri": "https://localhost:8080/",
          "height": 34
        }
      },
      "source": [
        "!ls"
      ],
      "execution_count": null,
      "outputs": [
        {
          "output_type": "stream",
          "text": [
            "my_first_module.py  sample_data\n"
          ],
          "name": "stdout"
        }
      ]
    },
    {
      "cell_type": "code",
      "metadata": {
        "id": "c5h-DmmaZR4O",
        "outputId": "86ceb8a2-9c2d-4623-be63-809d81da55d1",
        "colab": {
          "base_uri": "https://localhost:8080/",
          "height": 34
        }
      },
      "source": [
        "import my_first_module\n",
        "from my_first_module import hello_module\n",
        "hello_module()"
      ],
      "execution_count": null,
      "outputs": [
        {
          "output_type": "stream",
          "text": [
            "Hello Python Module!\n"
          ],
          "name": "stdout"
        }
      ]
    },
    {
      "cell_type": "markdown",
      "metadata": {
        "id": "z40mskw-aGEi"
      },
      "source": [
        "Self Study\n",
        "* More Built-in Modules such as 'os'\n",
        "* What are namespaces?\n",
        "* How are several modules defined under a Namespace?\n",
        "\n",
        "Self Practice\n",
        "* Find and implement UI Package TKinter to get an idea of UI capability in Python?"
      ]
    },
    {
      "cell_type": "markdown",
      "metadata": {
        "id": "MySnp_xGZcWS"
      },
      "source": [
        "# File Handling"
      ]
    },
    {
      "cell_type": "code",
      "metadata": {
        "id": "nXLquZaZbGPy",
        "outputId": "136625af-1dd4-4104-c0fe-6373654f2d2f",
        "colab": {
          "base_uri": "https://localhost:8080/",
          "height": 34
        }
      },
      "source": [
        "!pwd"
      ],
      "execution_count": null,
      "outputs": [
        {
          "output_type": "stream",
          "text": [
            "/content\n"
          ],
          "name": "stdout"
        }
      ]
    },
    {
      "cell_type": "code",
      "metadata": {
        "id": "yqtQYIxmbVtf",
        "outputId": "31af77b0-19d2-47bc-9999-3fab0cc8ab0b",
        "colab": {
          "base_uri": "https://localhost:8080/",
          "height": 34
        }
      },
      "source": [
        "!ls"
      ],
      "execution_count": null,
      "outputs": [
        {
          "output_type": "stream",
          "text": [
            "data.csv  my_first_module.py  __pycache__  sample_data\n"
          ],
          "name": "stdout"
        }
      ]
    },
    {
      "cell_type": "code",
      "metadata": {
        "id": "H7290BvxahUZ",
        "outputId": "da361942-0086-405c-b40d-ea463cc5581a",
        "colab": {
          "base_uri": "https://localhost:8080/",
          "height": 52
        }
      },
      "source": [
        "file = open('data.csv','r')\n",
        "print(file.readline())\n",
        "file.close()"
      ],
      "execution_count": null,
      "outputs": [
        {
          "output_type": "stream",
          "text": [
            "﻿Programming language,Designed by,Appeared,Extension\n",
            "\n"
          ],
          "name": "stdout"
        }
      ]
    },
    {
      "cell_type": "code",
      "metadata": {
        "id": "UbWk1kisb_-1"
      },
      "source": [
        "with open('data.csv','r') as file: #with \"with\", no need to close the resource\n",
        "  print(file.readline())\n",
        "  print(file.read())\n",
        "with open('data.csv') as file:\n",
        "  for line in file:\n",
        "    for word in line.split(','):\n",
        "      print (word)\n",
        "    print('---')"
      ],
      "execution_count": null,
      "outputs": []
    },
    {
      "cell_type": "code",
      "metadata": {
        "id": "pnZ2a0BWcLYN"
      },
      "source": [
        "with open('data_write.txt','w') as file:\n",
        "  file.write('Hello world from Python at TCN')"
      ],
      "execution_count": null,
      "outputs": []
    },
    {
      "cell_type": "code",
      "metadata": {
        "id": "ydVaR0S2cRjG"
      },
      "source": [
        "with open('data_write.txt','a') as file:\n",
        "  file.write('appended text')"
      ],
      "execution_count": null,
      "outputs": []
    },
    {
      "cell_type": "code",
      "metadata": {
        "id": "9zBTgG_QcWSu",
        "outputId": "c3e07723-f161-4f2c-f706-274e1590f004",
        "colab": {
          "base_uri": "https://localhost:8080/",
          "height": 34
        }
      },
      "source": [
        "file = open('data_write.txt','r')\n",
        "print(file.readline())\n",
        "file.close()"
      ],
      "execution_count": null,
      "outputs": [
        {
          "output_type": "stream",
          "text": [
            "Hello world from Python at TCNappended text\n"
          ],
          "name": "stdout"
        }
      ]
    },
    {
      "cell_type": "markdown",
      "metadata": {
        "id": "fh3qHqTobHAG"
      },
      "source": [
        "Self Study\n",
        "* What are the modes of opening a file?\n",
        "\n",
        "Self Practice\n",
        "* Delete a file\n",
        "* How to open a binary file such as images?"
      ]
    },
    {
      "cell_type": "markdown",
      "metadata": {
        "id": "-zt-H6Ydccqb"
      },
      "source": [
        "# Classes"
      ]
    },
    {
      "cell_type": "markdown",
      "metadata": {
        "id": "bXlw1RqaEppB"
      },
      "source": [
        "* Class\n",
        "* Constructor __ init __\n",
        "* __ str __\n",
        "* inheritance"
      ]
    },
    {
      "cell_type": "code",
      "metadata": {
        "id": "XvRPPVgbcVWb"
      },
      "source": [
        "class MyPhoneInfo:\n",
        "  \"\"\"This is the sample class for python\"\"\"\n",
        "  def __init__(self,brand_name,is_liked=True,screen_size=4.5):\n",
        "    self.brand_name = brand_name\n",
        "    self.is_liked = is_liked\n",
        "    self.screen_size=screen_size\n",
        "    self.ratings = 0\n",
        "  def has_ratings(self):\n",
        "    return self.ratings>0"
      ],
      "execution_count": null,
      "outputs": []
    },
    {
      "cell_type": "code",
      "metadata": {
        "id": "kDW7Tm3YCspN",
        "outputId": "4bb6fd78-773f-4e0d-9516-075d83383bbf",
        "colab": {
          "base_uri": "https://localhost:8080/",
          "height": 34
        }
      },
      "source": [
        "myPhoneInfo = MyPhoneInfo('Nokia')\n",
        "print(myPhoneInfo.brand_name,myPhoneInfo.is_liked,myPhoneInfo.screen_size)\n"
      ],
      "execution_count": null,
      "outputs": [
        {
          "output_type": "stream",
          "text": [
            "Nokia True 4.5\n"
          ],
          "name": "stdout"
        }
      ]
    },
    {
      "cell_type": "code",
      "metadata": {
        "id": "3S-L2NJfDDCZ",
        "outputId": "a55f29c4-b06e-46bf-be69-fb704b4fa1d8",
        "colab": {
          "base_uri": "https://localhost:8080/",
          "height": 34
        }
      },
      "source": [
        "print(myPhoneInfo.has_ratings())\n"
      ],
      "execution_count": null,
      "outputs": [
        {
          "output_type": "stream",
          "text": [
            "False\n"
          ],
          "name": "stdout"
        }
      ]
    },
    {
      "cell_type": "code",
      "metadata": {
        "id": "7aBh4WHODHw-",
        "outputId": "32d6f184-5e83-4810-da8f-b557c0c78437",
        "colab": {
          "base_uri": "https://localhost:8080/",
          "height": 34
        }
      },
      "source": [
        "myPhoneInfo.ratings = 3\n",
        "print(myPhoneInfo.has_ratings())\n"
      ],
      "execution_count": null,
      "outputs": [
        {
          "output_type": "stream",
          "text": [
            "True\n"
          ],
          "name": "stdout"
        }
      ]
    },
    {
      "cell_type": "code",
      "metadata": {
        "id": "u5JYs3VcDO1Q",
        "outputId": "e1083cc9-b525-4b0a-8270-71861e60d9ba",
        "colab": {
          "base_uri": "https://localhost:8080/",
          "height": 34
        }
      },
      "source": [
        "print(MyPhoneInfo.__doc__)"
      ],
      "execution_count": null,
      "outputs": [
        {
          "output_type": "stream",
          "text": [
            "This is the sample class for python\n"
          ],
          "name": "stdout"
        }
      ]
    },
    {
      "cell_type": "markdown",
      "metadata": {
        "id": "qzDvTfwMDXUW"
      },
      "source": [
        "Inheritance"
      ]
    },
    {
      "cell_type": "code",
      "metadata": {
        "id": "j4jkXiJhDY1K"
      },
      "source": [
        "class MyChildInfo(MyPhoneInfo): #inheritance\n",
        "  def __init__(self,brand_name):\n",
        "    MyPhoneInfo.__init__(self,brand_name,False,1)"
      ],
      "execution_count": null,
      "outputs": []
    },
    {
      "cell_type": "code",
      "metadata": {
        "id": "gHzteC9qDlza",
        "outputId": "834ce622-9290-4e51-aee4-72555d9f2eab",
        "colab": {
          "base_uri": "https://localhost:8080/",
          "height": 34
        }
      },
      "source": [
        "myChild = MyChildInfo('Nokia 6.1')\n",
        "print(myChild.brand_name,myChild.is_liked)"
      ],
      "execution_count": null,
      "outputs": [
        {
          "output_type": "stream",
          "text": [
            "Nokia 6.1 False\n"
          ],
          "name": "stdout"
        }
      ]
    },
    {
      "cell_type": "code",
      "metadata": {
        "id": "HhxrkVh6Dwv-"
      },
      "source": [
        "class MyChildInfo(MyPhoneInfo): #inheritance\n",
        "  def __init__(self,brand_name):\n",
        "    MyPhoneInfo.__init__(self,brand_name,False,1)\n",
        "  def __str__(self):\n",
        "    return self.brand_name+' '+str(self.is_liked)+' '+str(self.screen_size)"
      ],
      "execution_count": null,
      "outputs": []
    },
    {
      "cell_type": "code",
      "metadata": {
        "id": "WMNPELTBD7EF"
      },
      "source": [
        "myChild = MyChildInfo('Nokia 6.1')"
      ],
      "execution_count": null,
      "outputs": []
    },
    {
      "cell_type": "code",
      "metadata": {
        "id": "3NsHjXTTD-k-",
        "outputId": "9d188df7-54d1-44c1-ca6e-d09490a1c837",
        "colab": {
          "base_uri": "https://localhost:8080/",
          "height": 52
        }
      },
      "source": [
        "print(myPhoneInfo)\n",
        "print(myChild)"
      ],
      "execution_count": null,
      "outputs": [
        {
          "output_type": "stream",
          "text": [
            "<__main__.MyPhoneInfo object at 0x7fac2aabc748>\n",
            "Nokia 6.1 False 1\n"
          ],
          "name": "stdout"
        }
      ]
    },
    {
      "cell_type": "markdown",
      "metadata": {
        "id": "o5qwpXZYMD9q"
      },
      "source": [
        "# Tiny Steps towards Machine Learning\n",
        "* Numpy\n",
        "* Plotting\n",
        "* Pandas\n",
        "* Future Steps"
      ]
    },
    {
      "cell_type": "code",
      "metadata": {
        "id": "trS1RxV8MuEm"
      },
      "source": [
        "import numpy as np"
      ],
      "execution_count": null,
      "outputs": []
    },
    {
      "cell_type": "code",
      "metadata": {
        "id": "fJSSQHXGPVQo"
      },
      "source": [
        "np?"
      ],
      "execution_count": null,
      "outputs": []
    },
    {
      "cell_type": "markdown",
      "metadata": {
        "id": "uK6ZXSHLdnh5"
      },
      "source": [
        "Arrays\n",
        "* Create arrays easily\n",
        "* List, Range as Numpy Array\n",
        "* Shape/Dimension of array\n",
        "* Reshape array\n",
        "* Transform Array\n",
        "* Dummy arrays with 0s, and 1s\n",
        "* Array arithmetic operators\n",
        "* Inner Product, Outer Product, Dot Products"
      ]
    },
    {
      "cell_type": "code",
      "metadata": {
        "id": "9fAxYIHeM2-M",
        "outputId": "dea50fdb-d337-48a9-e46b-3e0b912d2e36",
        "colab": {
          "base_uri": "https://localhost:8080/",
          "height": 52
        }
      },
      "source": [
        "X = np.array([1,2,3,4])\n",
        "print(X)\n",
        "print(type(X))\n"
      ],
      "execution_count": null,
      "outputs": [
        {
          "output_type": "stream",
          "text": [
            "[1 2 3 4]\n",
            "<class 'numpy.ndarray'>\n"
          ],
          "name": "stdout"
        }
      ]
    },
    {
      "cell_type": "code",
      "metadata": {
        "id": "Q0sEdSi0O2Nb",
        "outputId": "a7f2f3b0-ec03-4468-f58f-1451f8441e58",
        "colab": {
          "base_uri": "https://localhost:8080/",
          "height": 34
        }
      },
      "source": [
        "l = [1,2,3,4,5]\n",
        "X = np.asarray(X)\n",
        "print(X)\n"
      ],
      "execution_count": null,
      "outputs": [
        {
          "output_type": "stream",
          "text": [
            "[1 2 3 4]\n"
          ],
          "name": "stdout"
        }
      ]
    },
    {
      "cell_type": "code",
      "metadata": {
        "id": "_68c84SaO3uc",
        "outputId": "0920c0af-6465-4af3-bab8-82c63648aaae",
        "colab": {
          "base_uri": "https://localhost:8080/",
          "height": 34
        }
      },
      "source": [
        "X = np.asarray(X,float)\n",
        "print(X)"
      ],
      "execution_count": null,
      "outputs": [
        {
          "output_type": "stream",
          "text": [
            "[1. 2. 3. 4.]\n"
          ],
          "name": "stdout"
        }
      ]
    },
    {
      "cell_type": "code",
      "metadata": {
        "id": "RIpMJTkCPDiZ",
        "outputId": "c11655af-7a42-4f32-ee98-3c970361b85c",
        "colab": {
          "base_uri": "https://localhost:8080/",
          "height": 34
        }
      },
      "source": [
        "X.shape #dimensions of array"
      ],
      "execution_count": null,
      "outputs": [
        {
          "output_type": "execute_result",
          "data": {
            "text/plain": [
              "(4,)"
            ]
          },
          "metadata": {
            "tags": []
          },
          "execution_count": 30
        }
      ]
    },
    {
      "cell_type": "code",
      "metadata": {
        "id": "TbrYAJvkPIV1"
      },
      "source": [
        "X = np.array([[1,2,3],[4,5,6]])"
      ],
      "execution_count": null,
      "outputs": []
    },
    {
      "cell_type": "code",
      "metadata": {
        "id": "99uEIi6ePKFp",
        "outputId": "933f80dd-4bed-40d0-f8df-0199cd5aacf3",
        "colab": {
          "base_uri": "https://localhost:8080/",
          "height": 34
        }
      },
      "source": [
        "X.shape"
      ],
      "execution_count": null,
      "outputs": [
        {
          "output_type": "execute_result",
          "data": {
            "text/plain": [
              "(2, 3)"
            ]
          },
          "metadata": {
            "tags": []
          },
          "execution_count": 32
        }
      ]
    },
    {
      "cell_type": "code",
      "metadata": {
        "id": "MA4SoLHcPO3N",
        "outputId": "dd3bcb4f-8f8f-4145-d195-38baa0607e64",
        "colab": {
          "base_uri": "https://localhost:8080/",
          "height": 52
        }
      },
      "source": [
        "X[0,0]\n",
        "X[1,2]\n",
        "X[0,0:2]\n",
        "print(X[0:])"
      ],
      "execution_count": null,
      "outputs": [
        {
          "output_type": "stream",
          "text": [
            "[[1 2 3]\n",
            " [4 5 6]]\n"
          ],
          "name": "stdout"
        }
      ]
    },
    {
      "cell_type": "code",
      "metadata": {
        "id": "h3nLxBU5PS_4",
        "outputId": "ad693472-b97a-4437-8464-b417b2386f86",
        "colab": {
          "base_uri": "https://localhost:8080/",
          "height": 86
        }
      },
      "source": [
        "X = np.zeros((4,5))\n",
        "print(X)"
      ],
      "execution_count": null,
      "outputs": [
        {
          "output_type": "stream",
          "text": [
            "[[0. 0. 0. 0. 0.]\n",
            " [0. 0. 0. 0. 0.]\n",
            " [0. 0. 0. 0. 0.]\n",
            " [0. 0. 0. 0. 0.]]\n"
          ],
          "name": "stdout"
        }
      ]
    },
    {
      "cell_type": "code",
      "metadata": {
        "id": "tlCIQpl5Q8DR"
      },
      "source": [
        "help(np.zeros)"
      ],
      "execution_count": null,
      "outputs": []
    },
    {
      "cell_type": "code",
      "metadata": {
        "id": "haW_7ehWProo",
        "outputId": "412d2ec8-ce91-46b0-87c3-670c842099ab",
        "colab": {
          "base_uri": "https://localhost:8080/",
          "height": 86
        }
      },
      "source": [
        "X = np.eye(4,4) #diagonal\n",
        "print(X)"
      ],
      "execution_count": null,
      "outputs": [
        {
          "output_type": "stream",
          "text": [
            "[[1. 0. 0. 0.]\n",
            " [0. 1. 0. 0.]\n",
            " [0. 0. 1. 0.]\n",
            " [0. 0. 0. 1.]]\n"
          ],
          "name": "stdout"
        }
      ]
    },
    {
      "cell_type": "code",
      "metadata": {
        "id": "CPFPrzkHP0Hj",
        "outputId": "e111e0aa-5a93-4046-84a3-da0a03819e2a",
        "colab": {
          "base_uri": "https://localhost:8080/",
          "height": 86
        }
      },
      "source": [
        "X = np.random.random((4,5))\n",
        "print(X)"
      ],
      "execution_count": null,
      "outputs": [
        {
          "output_type": "stream",
          "text": [
            "[[0.85120428 0.68131641 0.91144844 0.66860588 0.657736  ]\n",
            " [0.69506766 0.28975357 0.87033394 0.37851076 0.80328747]\n",
            " [0.7589691  0.41264038 0.91516133 0.91589745 0.66669512]\n",
            " [0.21303683 0.77198138 0.22750862 0.3353693  0.94864126]]\n"
          ],
          "name": "stdout"
        }
      ]
    },
    {
      "cell_type": "code",
      "metadata": {
        "id": "fyYUE0wqRHMz"
      },
      "source": [
        "help(np.random)"
      ],
      "execution_count": null,
      "outputs": []
    },
    {
      "cell_type": "code",
      "metadata": {
        "id": "3LTMkordP3e2"
      },
      "source": [
        "Z = X.T #Transform the tows/columns\n",
        "print(Z)"
      ],
      "execution_count": null,
      "outputs": []
    },
    {
      "cell_type": "code",
      "metadata": {
        "id": "w2qvH_rgP_70"
      },
      "source": [
        "Y = X.reshape(20,1) #reshape the 2d array\n",
        "print(Y)"
      ],
      "execution_count": null,
      "outputs": []
    },
    {
      "cell_type": "code",
      "metadata": {
        "id": "QYbPdAQvQHYE",
        "outputId": "92664136-96a2-49ab-e3a0-f78262c814c0",
        "colab": {
          "base_uri": "https://localhost:8080/",
          "height": 34
        }
      },
      "source": [
        "A = np.arange(5)\n",
        "B = np.arange(5)\n",
        "print(A,B)"
      ],
      "execution_count": null,
      "outputs": [
        {
          "output_type": "stream",
          "text": [
            "[0 1 2 3 4] [0 1 2 3 4]\n"
          ],
          "name": "stdout"
        }
      ]
    },
    {
      "cell_type": "code",
      "metadata": {
        "id": "BA5I7TMsQM7I",
        "outputId": "89739430-4a62-4d2d-a1e0-ba04cc1848d4",
        "colab": {
          "base_uri": "https://localhost:8080/",
          "height": 34
        }
      },
      "source": [
        "C = A+B\n",
        "print(C)\n"
      ],
      "execution_count": null,
      "outputs": [
        {
          "output_type": "stream",
          "text": [
            "[0 2 4 6 8]\n"
          ],
          "name": "stdout"
        }
      ]
    },
    {
      "cell_type": "code",
      "metadata": {
        "id": "99ONZVWmQQGY",
        "outputId": "38aa973c-88b7-440f-915b-26c95a894a0e",
        "colab": {
          "base_uri": "https://localhost:8080/",
          "height": 34
        }
      },
      "source": [
        "C = A-B\n",
        "print(C)\n"
      ],
      "execution_count": null,
      "outputs": [
        {
          "output_type": "stream",
          "text": [
            "[0 0 0 0 0]\n"
          ],
          "name": "stdout"
        }
      ]
    },
    {
      "cell_type": "code",
      "metadata": {
        "id": "Hlxgl4QXQTMO",
        "outputId": "7ea28499-3010-45eb-ab04-ae5403611e46",
        "colab": {
          "base_uri": "https://localhost:8080/",
          "height": 34
        }
      },
      "source": [
        "C = A*B\n",
        "print(C)\n"
      ],
      "execution_count": null,
      "outputs": [
        {
          "output_type": "stream",
          "text": [
            "[ 0  1  4  9 16]\n"
          ],
          "name": "stdout"
        }
      ]
    },
    {
      "cell_type": "code",
      "metadata": {
        "id": "OjemNiGiQWs-",
        "outputId": "39a298ff-4ca0-41da-8645-831a74cf8538",
        "colab": {
          "base_uri": "https://localhost:8080/",
          "height": 89
        }
      },
      "source": [
        "C = A/B\n",
        "print(C)\n"
      ],
      "execution_count": null,
      "outputs": [
        {
          "output_type": "stream",
          "text": [
            "[nan  1.  1.  1.  1.]\n"
          ],
          "name": "stdout"
        },
        {
          "output_type": "stream",
          "text": [
            "/usr/local/lib/python3.6/dist-packages/ipykernel_launcher.py:1: RuntimeWarning: invalid value encountered in true_divide\n",
            "  \"\"\"Entry point for launching an IPython kernel.\n"
          ],
          "name": "stderr"
        }
      ]
    },
    {
      "cell_type": "code",
      "metadata": {
        "id": "2in7n1uGQa9t",
        "outputId": "1f3f3e64-fcb7-43e8-caf5-79a70ef3cc6f",
        "colab": {
          "base_uri": "https://localhost:8080/",
          "height": 34
        }
      },
      "source": [
        "print(A,A+1)"
      ],
      "execution_count": null,
      "outputs": [
        {
          "output_type": "stream",
          "text": [
            "[0 1 2 3 4] [1 2 3 4 5]\n"
          ],
          "name": "stdout"
        }
      ]
    },
    {
      "cell_type": "code",
      "metadata": {
        "id": "gwzB4uR9Qfm1",
        "outputId": "fef91aee-468b-4d05-fc78-66817b644e28",
        "colab": {
          "base_uri": "https://localhost:8080/",
          "height": 86
        }
      },
      "source": [
        "A = np.floor(np.random.random((2,3))*10)\n",
        "print(A)\n",
        "print(A+1)"
      ],
      "execution_count": null,
      "outputs": [
        {
          "output_type": "stream",
          "text": [
            "[[7. 9. 1.]\n",
            " [1. 1. 5.]]\n",
            "[[ 8. 10.  2.]\n",
            " [ 2.  2.  6.]]\n"
          ],
          "name": "stdout"
        }
      ]
    },
    {
      "cell_type": "code",
      "metadata": {
        "id": "9kHn3eyJW6Gs"
      },
      "source": [
        "u = [2,0,3]\n",
        "v = [-1,0,-1]"
      ],
      "execution_count": null,
      "outputs": []
    },
    {
      "cell_type": "code",
      "metadata": {
        "id": "8N0ocAlQW90Q",
        "outputId": "b94b9cd9-ca64-4077-ccfa-b619c26589b4",
        "colab": {
          "base_uri": "https://localhost:8080/",
          "height": 34
        }
      },
      "source": [
        "p1 = np.inner(u,v) #sum of inner products, (2*-1) + 0*0 + (3*-1) = -5\n",
        "print(p1)"
      ],
      "execution_count": null,
      "outputs": [
        {
          "output_type": "stream",
          "text": [
            "-5\n"
          ],
          "name": "stdout"
        }
      ]
    },
    {
      "cell_type": "code",
      "metadata": {
        "id": "vQB9HHqoW_sc"
      },
      "source": [
        "help(np.inner)"
      ],
      "execution_count": null,
      "outputs": []
    },
    {
      "cell_type": "code",
      "metadata": {
        "id": "f-v8eKtaXU9v",
        "outputId": "ca20ad07-a2ed-458a-b670-bf686f927bf0",
        "colab": {
          "base_uri": "https://localhost:8080/",
          "height": 69
        }
      },
      "source": [
        "p2 = np.outer(u,v)\n",
        "print(p2)"
      ],
      "execution_count": null,
      "outputs": [
        {
          "output_type": "stream",
          "text": [
            "[[-2  0 -2]\n",
            " [ 0  0  0]\n",
            " [-3  0 -3]]\n"
          ],
          "name": "stdout"
        }
      ]
    },
    {
      "cell_type": "code",
      "metadata": {
        "id": "fE4j4RfAXfkf"
      },
      "source": [
        "help(np.outer)"
      ],
      "execution_count": null,
      "outputs": []
    },
    {
      "cell_type": "code",
      "metadata": {
        "id": "bYSkdjq4X1iU"
      },
      "source": [
        "A = np.ones((2,3))\n",
        "B = np.ones((3,2))\n",
        "C = np.ones((2,3)) #make it 3,2 or 3,3 to work\n",
        "pDot = np.dot(A,B)\n",
        "print(A)\n",
        "print(B)\n",
        "print(pDot) \n",
        "# [[1*1 + 1*1 + 1*1], [1*1 + 1*1 + 1*1] - first row\n",
        "# [1*1 + 1*1 + 1*1], [1*1 + 1*1 + 1*1]] - second row"
      ],
      "execution_count": null,
      "outputs": []
    },
    {
      "cell_type": "code",
      "metadata": {
        "id": "fOIpoKeaX7aA"
      },
      "source": [
        "help(np.dot)"
      ],
      "execution_count": null,
      "outputs": []
    },
    {
      "cell_type": "code",
      "metadata": {
        "id": "n8mc7h15bcQF",
        "outputId": "6241c2c1-f180-45f5-e111-35b7deceb08a",
        "colab": {
          "base_uri": "https://localhost:8080/",
          "height": 52
        }
      },
      "source": [
        "A = np.array([[1,2],[3,4]]) \n",
        "B = np.array([[11,12],[13,14]]) \n",
        "np.dot(A,B)\n",
        "#[[1*11+2*13, 1*12+2*14],[3*11+4*13, 3*12+4*14]] "
      ],
      "execution_count": null,
      "outputs": [
        {
          "output_type": "execute_result",
          "data": {
            "text/plain": [
              "array([[37, 40],\n",
              "       [85, 92]])"
            ]
          },
          "metadata": {
            "tags": []
          },
          "execution_count": 66
        }
      ]
    },
    {
      "cell_type": "code",
      "metadata": {
        "id": "spYU-MoocAIg",
        "outputId": "c1ee7759-0f57-4d58-dac4-f0b999f456f7",
        "colab": {
          "base_uri": "https://localhost:8080/",
          "height": 69
        }
      },
      "source": [
        "A = np.ones((2,3))\n",
        "print(A)\n",
        "print(A.sum())\n",
        "\n"
      ],
      "execution_count": null,
      "outputs": [
        {
          "output_type": "stream",
          "text": [
            "[[1. 1. 1.]\n",
            " [1. 1. 1.]]\n",
            "6.0\n"
          ],
          "name": "stdout"
        }
      ]
    },
    {
      "cell_type": "code",
      "metadata": {
        "id": "IGTdFF72cCN1",
        "outputId": "4873e402-5979-4c06-89bd-6d14e62249b9",
        "colab": {
          "base_uri": "https://localhost:8080/",
          "height": 52
        }
      },
      "source": [
        "print(A.sum(axis=0)) #columns as axis - sum of columns wise values\n",
        "print(A.sum(axis=1)) #rows as axis - sum of row wise values"
      ],
      "execution_count": null,
      "outputs": [
        {
          "output_type": "stream",
          "text": [
            "[2. 2. 2.]\n",
            "[3. 3.]\n"
          ],
          "name": "stdout"
        }
      ]
    },
    {
      "cell_type": "markdown",
      "metadata": {
        "id": "gom5TxeifK7b"
      },
      "source": [
        "# Plotting\n",
        "* Matplotlib to create various charts\n",
        "* Seaborn library\n",
        "* Lineplots\n",
        "* BoxPlot\n",
        "* ScatterPlot\n",
        "* HeatMap\n",
        "* Distplot\n",
        "* Pandas"
      ]
    },
    {
      "cell_type": "code",
      "metadata": {
        "id": "oBJAfzQYjSMG"
      },
      "source": [
        "import matplotlib.pyplot as plt\n",
        "import numpy as np"
      ],
      "execution_count": null,
      "outputs": []
    },
    {
      "cell_type": "code",
      "metadata": {
        "id": "wyk_mKAkjUJc",
        "outputId": "151be67b-4bb9-4d5b-c984-ef544275c8d6",
        "colab": {
          "base_uri": "https://localhost:8080/",
          "height": 191
        }
      },
      "source": [
        "x = np.random.random((10,1))\n",
        "print(x)"
      ],
      "execution_count": null,
      "outputs": [
        {
          "output_type": "stream",
          "text": [
            "[[0.08746746]\n",
            " [0.99056366]\n",
            " [0.79163675]\n",
            " [0.7462088 ]\n",
            " [0.53586826]\n",
            " [0.50022146]\n",
            " [0.37663213]\n",
            " [0.79900913]\n",
            " [0.70361271]\n",
            " [0.24287556]]\n"
          ],
          "name": "stdout"
        }
      ]
    },
    {
      "cell_type": "code",
      "metadata": {
        "id": "OerLj5xZjlQ9",
        "outputId": "374624ec-9cb5-4d06-9104-e06dfb395a45",
        "colab": {
          "base_uri": "https://localhost:8080/",
          "height": 265
        }
      },
      "source": [
        "plt.plot(x) #simple line plot with Y axis as values from List, X axis as the index of list item\n",
        "\n",
        "plt.show() #values = Y-axis, Index = X-Axis"
      ],
      "execution_count": null,
      "outputs": [
        {
          "output_type": "display_data",
          "data": {
            "image/png": "[encoded data removed]",
            "text/plain": [
              "<Figure size 432x288 with 1 Axes>"
            ]
          },
          "metadata": {
            "tags": [],
            "needs_background": "light"
          }
        }
      ]
    },
    {
      "cell_type": "code",
      "metadata": {
        "id": "ZMNgyg4PjoDs",
        "outputId": "cb5671a5-0608-44f0-aa12-f9fb09385c0b",
        "colab": {
          "base_uri": "https://localhost:8080/",
          "height": 282
        }
      },
      "source": [
        "plt.plot(x,'*-') # * + _ *- ^-"
      ],
      "execution_count": null,
      "outputs": [
        {
          "output_type": "execute_result",
          "data": {
            "text/plain": [
              "[<matplotlib.lines.Line2D at 0x7fac289162e8>]"
            ]
          },
          "metadata": {
            "tags": []
          },
          "execution_count": 75
        },
        {
          "output_type": "display_data",
          "data": {
            "image/png": "[encoded data removed]",
            "text/plain": [
              "<Figure size 432x288 with 1 Axes>"
            ]
          },
          "metadata": {
            "tags": [],
            "needs_background": "light"
          }
        }
      ]
    },
    {
      "cell_type": "code",
      "metadata": {
        "id": "eKiFQ4OVj5z2"
      },
      "source": [
        "help(np.linspace)"
      ],
      "execution_count": null,
      "outputs": []
    },
    {
      "cell_type": "code",
      "metadata": {
        "id": "XcJkwsNhjqA9",
        "outputId": "7ebacefa-0e54-46f8-ff0f-859b247c3c43",
        "colab": {
          "base_uri": "https://localhost:8080/",
          "height": 312
        }
      },
      "source": [
        "x = np.linspace(0,10,100) # Return evenly spaced numbers over a specified interval. 0-10, 100 numbers\n",
        "print(x)\n"
      ],
      "execution_count": null,
      "outputs": [
        {
          "output_type": "stream",
          "text": [
            "[ 0.          0.1010101   0.2020202   0.3030303   0.4040404   0.50505051\n",
            "  0.60606061  0.70707071  0.80808081  0.90909091  1.01010101  1.11111111\n",
            "  1.21212121  1.31313131  1.41414141  1.51515152  1.61616162  1.71717172\n",
            "  1.81818182  1.91919192  2.02020202  2.12121212  2.22222222  2.32323232\n",
            "  2.42424242  2.52525253  2.62626263  2.72727273  2.82828283  2.92929293\n",
            "  3.03030303  3.13131313  3.23232323  3.33333333  3.43434343  3.53535354\n",
            "  3.63636364  3.73737374  3.83838384  3.93939394  4.04040404  4.14141414\n",
            "  4.24242424  4.34343434  4.44444444  4.54545455  4.64646465  4.74747475\n",
            "  4.84848485  4.94949495  5.05050505  5.15151515  5.25252525  5.35353535\n",
            "  5.45454545  5.55555556  5.65656566  5.75757576  5.85858586  5.95959596\n",
            "  6.06060606  6.16161616  6.26262626  6.36363636  6.46464646  6.56565657\n",
            "  6.66666667  6.76767677  6.86868687  6.96969697  7.07070707  7.17171717\n",
            "  7.27272727  7.37373737  7.47474747  7.57575758  7.67676768  7.77777778\n",
            "  7.87878788  7.97979798  8.08080808  8.18181818  8.28282828  8.38383838\n",
            "  8.48484848  8.58585859  8.68686869  8.78787879  8.88888889  8.98989899\n",
            "  9.09090909  9.19191919  9.29292929  9.39393939  9.49494949  9.5959596\n",
            "  9.6969697   9.7979798   9.8989899  10.        ]\n"
          ],
          "name": "stdout"
        }
      ]
    },
    {
      "cell_type": "code",
      "metadata": {
        "id": "EoR4L2fSkFGn",
        "outputId": "7d9442ff-215b-4959-de2b-7162a0aa02e4",
        "colab": {
          "base_uri": "https://localhost:8080/",
          "height": 312
        }
      },
      "source": [
        "y = np.power(x,0.5) #square root of these numbers\n",
        "print(y)"
      ],
      "execution_count": null,
      "outputs": [
        {
          "output_type": "stream",
          "text": [
            "[0.         0.31782086 0.44946657 0.55048188 0.63564173 0.71066905\n",
            " 0.77849894 0.84087497 0.89893315 0.95346259 1.00503782 1.05409255\n",
            " 1.10096377 1.14591942 1.18917678 1.23091491 1.27128345 1.31040899\n",
            " 1.34839972 1.38534902 1.42133811 1.45643816 1.49071198 1.52421531\n",
            " 1.55699789 1.58910432 1.62057478 1.65144565 1.68174993 1.71151773\n",
            " 1.74077656 1.76955168 1.7978663  1.82574186 1.85319816 1.88025358\n",
            " 1.90692518 1.93322884 1.95917938 1.98479065 2.01007563 2.03504647\n",
            " 2.0597146  2.08409077 2.10818511 2.13200716 2.15556597 2.17887006\n",
            " 2.20192753 2.22474604 2.24733287 2.26969495 2.29183884 2.31377081\n",
            " 2.33549683 2.3570226  2.37835356 2.3994949  2.42045158 2.44122837\n",
            " 2.46182982 2.48226029 2.50252398 2.5226249  2.5425669  2.56235372\n",
            " 2.5819889  2.60147588 2.62081798 2.64001837 2.65908012 2.67800619\n",
            " 2.69679945 2.71546264 2.73399844 2.75240941 2.77069805 2.78886676\n",
            " 2.80691786 2.82485362 2.84267622 2.86038777 2.87799032 2.89548586\n",
            " 2.91287633 2.93016358 2.94734943 2.96443566 2.98142397 2.99831603\n",
            " 3.01511345 3.0318178  3.04843063 3.06495341 3.08138759 3.09773459\n",
            " 3.11399578 3.13017249 3.14626602 3.16227766]\n"
          ],
          "name": "stdout"
        }
      ]
    },
    {
      "cell_type": "code",
      "metadata": {
        "id": "1dm-IX-HlgBl",
        "outputId": "6113aacd-11f4-4702-e704-78467fb2a436",
        "colab": {
          "base_uri": "https://localhost:8080/",
          "height": 282
        }
      },
      "source": [
        "plt.plot(x,y,'-') #plot between x-y axis values"
      ],
      "execution_count": null,
      "outputs": [
        {
          "output_type": "execute_result",
          "data": {
            "text/plain": [
              "[<matplotlib.lines.Line2D at 0x7fac28f4a550>]"
            ]
          },
          "metadata": {
            "tags": []
          },
          "execution_count": 84
        },
        {
          "output_type": "display_data",
          "data": {
            "image/png": "[encoded data removed]",
            "text/plain": [
              "<Figure size 432x288 with 1 Axes>"
            ]
          },
          "metadata": {
            "tags": [],
            "needs_background": "light"
          }
        }
      ]
    },
    {
      "cell_type": "code",
      "metadata": {
        "id": "cA8EEZ6sxl39",
        "outputId": "fbf7b361-edd7-4507-97c8-cef2869f3739",
        "colab": {
          "base_uri": "https://localhost:8080/",
          "height": 72
        }
      },
      "source": [
        "import seaborn as sns"
      ],
      "execution_count": null,
      "outputs": [
        {
          "output_type": "stream",
          "text": [
            "/usr/local/lib/python3.6/dist-packages/statsmodels/tools/_testing.py:19: FutureWarning: pandas.util.testing is deprecated. Use the functions in the public API at pandas.testing instead.\n",
            "  import pandas.util.testing as tm\n"
          ],
          "name": "stderr"
        }
      ]
    },
    {
      "cell_type": "code",
      "metadata": {
        "id": "a9lAEO6UxqAw"
      },
      "source": [
        "sns.set()"
      ],
      "execution_count": null,
      "outputs": []
    },
    {
      "cell_type": "code",
      "metadata": {
        "id": "ibq50A9Tx4qu",
        "outputId": "2fe44605-be55-4c89-b826-1cea40ad8a38",
        "colab": {
          "base_uri": "https://localhost:8080/",
          "height": 268
        }
      },
      "source": [
        "sns.lineplot(x,y)\n",
        "plt.show()"
      ],
      "execution_count": null,
      "outputs": [
        {
          "output_type": "display_data",
          "data": {
            "image/png": "[encoded data removed]",
            "text/plain": [
              "<Figure size 432x288 with 1 Axes>"
            ]
          },
          "metadata": {
            "tags": []
          }
        }
      ]
    },
    {
      "cell_type": "markdown",
      "metadata": {
        "id": "CSj2w971gzga"
      },
      "source": [
        "# Pandas\n",
        "* Read CSV\n",
        "* Read top and bottom records\n",
        "* Shape of DatFrame\n",
        "* Accessing elements\n",
        "* Specifying attributes to read\n",
        "* Filtering DataFrames\n",
        "* Min, Max, Mean, Avg, Group by etc"
      ]
    },
    {
      "cell_type": "code",
      "metadata": {
        "id": "7D12bKCIybVO"
      },
      "source": [
        "import pandas as pd"
      ],
      "execution_count": null,
      "outputs": []
    },
    {
      "cell_type": "code",
      "metadata": {
        "id": "A_Shl7Hhydt2",
        "outputId": "a9ee37d0-709b-4ca1-df3a-fccb4c85a326",
        "colab": {
          "base_uri": "https://localhost:8080/",
          "height": 34
        }
      },
      "source": [
        "data = pd.read_csv('mobile_data.csv') #data frame\n",
        "type(data)"
      ],
      "execution_count": null,
      "outputs": [
        {
          "output_type": "execute_result",
          "data": {
            "text/plain": [
              "pandas.core.frame.DataFrame"
            ]
          },
          "metadata": {
            "tags": []
          },
          "execution_count": 107
        }
      ]
    },
    {
      "cell_type": "code",
      "metadata": {
        "id": "WutfrUKDyh4R",
        "outputId": "2fe03449-a61a-4b21-ebe9-6c3988125c38",
        "colab": {
          "base_uri": "https://localhost:8080/",
          "height": 226
        }
      },
      "source": [
        "data.head()"
      ],
      "execution_count": null,
      "outputs": [
        {
          "output_type": "execute_result",
          "data": {
            "text/html": [
              "<div>\n",
              "<style scoped>\n",
              "    .dataframe tbody tr th:only-of-type {\n",
              "        vertical-align: middle;\n",
              "    }\n",
              "\n",
              "    .dataframe tbody tr th {\n",
              "        vertical-align: top;\n",
              "    }\n",
              "\n",
              "    .dataframe thead th {\n",
              "        text-align: right;\n",
              "    }\n",
              "</style>\n",
              "<table border=\"1\" class=\"dataframe\">\n",
              "  <thead>\n",
              "    <tr style=\"text-align: right;\">\n",
              "      <th></th>\n",
              "      <th>sim_type</th>\n",
              "      <th>aperture</th>\n",
              "      <th>gpu_rank</th>\n",
              "      <th>weight</th>\n",
              "      <th>stand_by_time</th>\n",
              "      <th>processor_frequency</th>\n",
              "      <th>thickness</th>\n",
              "      <th>flash_type</th>\n",
              "      <th>front_camera_resolution</th>\n",
              "      <th>auto_focus</th>\n",
              "      <th>screen_size</th>\n",
              "      <th>frames_per_second</th>\n",
              "      <th>FM</th>\n",
              "      <th>no_of_reviews_in_gsmarena_in_week</th>\n",
              "      <th>os</th>\n",
              "      <th>phone_height</th>\n",
              "      <th>screen_protection</th>\n",
              "      <th>sim_size</th>\n",
              "      <th>price</th>\n",
              "      <th>talk_time</th>\n",
              "      <th>video_resolution</th>\n",
              "      <th>display_resolution</th>\n",
              "      <th>removable_battery</th>\n",
              "      <th>display_type</th>\n",
              "      <th>primary_camera_resolution</th>\n",
              "      <th>battery_type</th>\n",
              "      <th>ram_memory</th>\n",
              "      <th>internal_memory</th>\n",
              "      <th>brand_rank</th>\n",
              "      <th>no_of_cores</th>\n",
              "      <th>micro_sd_slot</th>\n",
              "      <th>screen_pixel_density</th>\n",
              "      <th>water_proof_rate</th>\n",
              "      <th>phone_width</th>\n",
              "      <th>expandable_memory</th>\n",
              "      <th>version</th>\n",
              "      <th>usb_type</th>\n",
              "      <th>battery_capacity</th>\n",
              "      <th>processor_rank</th>\n",
              "      <th>is_liked</th>\n",
              "    </tr>\n",
              "  </thead>\n",
              "  <tbody>\n",
              "    <tr>\n",
              "      <th>0</th>\n",
              "      <td>0</td>\n",
              "      <td>12</td>\n",
              "      <td>55</td>\n",
              "      <td>155.0</td>\n",
              "      <td>250</td>\n",
              "      <td>1.3</td>\n",
              "      <td>10.5</td>\n",
              "      <td>5</td>\n",
              "      <td>2.00</td>\n",
              "      <td>0</td>\n",
              "      <td>4.5</td>\n",
              "      <td>15</td>\n",
              "      <td>3</td>\n",
              "      <td>0</td>\n",
              "      <td>0</td>\n",
              "      <td>132.9</td>\n",
              "      <td>26</td>\n",
              "      <td>3</td>\n",
              "      <td>3870</td>\n",
              "      <td>9</td>\n",
              "      <td>480</td>\n",
              "      <td>12</td>\n",
              "      <td>3</td>\n",
              "      <td>11</td>\n",
              "      <td>5.00</td>\n",
              "      <td>1</td>\n",
              "      <td>1</td>\n",
              "      <td>7</td>\n",
              "      <td>29</td>\n",
              "      <td>6</td>\n",
              "      <td>4</td>\n",
              "      <td>2</td>\n",
              "      <td>3</td>\n",
              "      <td>67.8</td>\n",
              "      <td>64.0</td>\n",
              "      <td>5</td>\n",
              "      <td>3</td>\n",
              "      <td>2000</td>\n",
              "      <td>125</td>\n",
              "      <td>1</td>\n",
              "    </tr>\n",
              "    <tr>\n",
              "      <th>1</th>\n",
              "      <td>0</td>\n",
              "      <td>1</td>\n",
              "      <td>55</td>\n",
              "      <td>132.0</td>\n",
              "      <td>300</td>\n",
              "      <td>1.3</td>\n",
              "      <td>10.6</td>\n",
              "      <td>5</td>\n",
              "      <td>0.30</td>\n",
              "      <td>1</td>\n",
              "      <td>4.0</td>\n",
              "      <td>30</td>\n",
              "      <td>2</td>\n",
              "      <td>6</td>\n",
              "      <td>0</td>\n",
              "      <td>124.5</td>\n",
              "      <td>26</td>\n",
              "      <td>5</td>\n",
              "      <td>4059</td>\n",
              "      <td>9</td>\n",
              "      <td>720</td>\n",
              "      <td>15</td>\n",
              "      <td>3</td>\n",
              "      <td>11</td>\n",
              "      <td>5.00</td>\n",
              "      <td>1</td>\n",
              "      <td>1</td>\n",
              "      <td>7</td>\n",
              "      <td>11</td>\n",
              "      <td>6</td>\n",
              "      <td>4</td>\n",
              "      <td>4</td>\n",
              "      <td>6</td>\n",
              "      <td>64.0</td>\n",
              "      <td>32.0</td>\n",
              "      <td>5</td>\n",
              "      <td>3</td>\n",
              "      <td>2000</td>\n",
              "      <td>165</td>\n",
              "      <td>1</td>\n",
              "    </tr>\n",
              "    <tr>\n",
              "      <th>2</th>\n",
              "      <td>0</td>\n",
              "      <td>9</td>\n",
              "      <td>55</td>\n",
              "      <td>142.0</td>\n",
              "      <td>329</td>\n",
              "      <td>1.5</td>\n",
              "      <td>8.5</td>\n",
              "      <td>5</td>\n",
              "      <td>2.00</td>\n",
              "      <td>3</td>\n",
              "      <td>5.0</td>\n",
              "      <td>30</td>\n",
              "      <td>2</td>\n",
              "      <td>20</td>\n",
              "      <td>0</td>\n",
              "      <td>145.5</td>\n",
              "      <td>4</td>\n",
              "      <td>3</td>\n",
              "      <td>4777</td>\n",
              "      <td>10</td>\n",
              "      <td>1080</td>\n",
              "      <td>4</td>\n",
              "      <td>3</td>\n",
              "      <td>1</td>\n",
              "      <td>5.04</td>\n",
              "      <td>2</td>\n",
              "      <td>1</td>\n",
              "      <td>7</td>\n",
              "      <td>27</td>\n",
              "      <td>6</td>\n",
              "      <td>4</td>\n",
              "      <td>9</td>\n",
              "      <td>6</td>\n",
              "      <td>72.0</td>\n",
              "      <td>32.0</td>\n",
              "      <td>6</td>\n",
              "      <td>3</td>\n",
              "      <td>2500</td>\n",
              "      <td>164</td>\n",
              "      <td>0</td>\n",
              "    </tr>\n",
              "    <tr>\n",
              "      <th>3</th>\n",
              "      <td>0</td>\n",
              "      <td>8</td>\n",
              "      <td>55</td>\n",
              "      <td>152.0</td>\n",
              "      <td>385</td>\n",
              "      <td>1.3</td>\n",
              "      <td>8.0</td>\n",
              "      <td>5</td>\n",
              "      <td>2.00</td>\n",
              "      <td>3</td>\n",
              "      <td>5.0</td>\n",
              "      <td>15</td>\n",
              "      <td>3</td>\n",
              "      <td>0</td>\n",
              "      <td>0</td>\n",
              "      <td>147.5</td>\n",
              "      <td>26</td>\n",
              "      <td>3</td>\n",
              "      <td>5799</td>\n",
              "      <td>19</td>\n",
              "      <td>720</td>\n",
              "      <td>17</td>\n",
              "      <td>3</td>\n",
              "      <td>2</td>\n",
              "      <td>5.00</td>\n",
              "      <td>1</td>\n",
              "      <td>1</td>\n",
              "      <td>7</td>\n",
              "      <td>4</td>\n",
              "      <td>6</td>\n",
              "      <td>4</td>\n",
              "      <td>1</td>\n",
              "      <td>3</td>\n",
              "      <td>75.1</td>\n",
              "      <td>32.0</td>\n",
              "      <td>6</td>\n",
              "      <td>3</td>\n",
              "      <td>3000</td>\n",
              "      <td>165</td>\n",
              "      <td>1</td>\n",
              "    </tr>\n",
              "    <tr>\n",
              "      <th>4</th>\n",
              "      <td>1</td>\n",
              "      <td>1</td>\n",
              "      <td>55</td>\n",
              "      <td>234.0</td>\n",
              "      <td>385</td>\n",
              "      <td>1.3</td>\n",
              "      <td>7.9</td>\n",
              "      <td>5</td>\n",
              "      <td>1.92</td>\n",
              "      <td>3</td>\n",
              "      <td>5.0</td>\n",
              "      <td>15</td>\n",
              "      <td>3</td>\n",
              "      <td>0</td>\n",
              "      <td>0</td>\n",
              "      <td>179.0</td>\n",
              "      <td>18</td>\n",
              "      <td>3</td>\n",
              "      <td>5990</td>\n",
              "      <td>11</td>\n",
              "      <td>720</td>\n",
              "      <td>17</td>\n",
              "      <td>3</td>\n",
              "      <td>1</td>\n",
              "      <td>5.00</td>\n",
              "      <td>1</td>\n",
              "      <td>1</td>\n",
              "      <td>7</td>\n",
              "      <td>4</td>\n",
              "      <td>6</td>\n",
              "      <td>4</td>\n",
              "      <td>1</td>\n",
              "      <td>6</td>\n",
              "      <td>91.0</td>\n",
              "      <td>32.0</td>\n",
              "      <td>6</td>\n",
              "      <td>3</td>\n",
              "      <td>3000</td>\n",
              "      <td>165</td>\n",
              "      <td>0</td>\n",
              "    </tr>\n",
              "  </tbody>\n",
              "</table>\n",
              "</div>"
            ],
            "text/plain": [
              "   sim_type  aperture  gpu_rank  ...  battery_capacity  processor_rank  is_liked\n",
              "0         0        12        55  ...              2000             125         1\n",
              "1         0         1        55  ...              2000             165         1\n",
              "2         0         9        55  ...              2500             164         0\n",
              "3         0         8        55  ...              3000             165         1\n",
              "4         1         1        55  ...              3000             165         0\n",
              "\n",
              "[5 rows x 40 columns]"
            ]
          },
          "metadata": {
            "tags": []
          },
          "execution_count": 94
        }
      ]
    },
    {
      "cell_type": "code",
      "metadata": {
        "id": "wZ2xydVc0qTS",
        "outputId": "7c8aea42-6b41-449e-b67b-6a7cdf3f1435",
        "colab": {
          "base_uri": "https://localhost:8080/",
          "height": 1000
        }
      },
      "source": [
        "dir(data) #to list all functions available on object"
      ],
      "execution_count": null,
      "outputs": [
        {
          "output_type": "execute_result",
          "data": {
            "text/plain": [
              "['FM',\n",
              " 'T',\n",
              " '_AXIS_ALIASES',\n",
              " '_AXIS_IALIASES',\n",
              " '_AXIS_LEN',\n",
              " '_AXIS_NAMES',\n",
              " '_AXIS_NUMBERS',\n",
              " '_AXIS_ORDERS',\n",
              " '_AXIS_REVERSED',\n",
              " '__abs__',\n",
              " '__add__',\n",
              " '__and__',\n",
              " '__annotations__',\n",
              " '__array__',\n",
              " '__array_priority__',\n",
              " '__array_wrap__',\n",
              " '__bool__',\n",
              " '__class__',\n",
              " '__contains__',\n",
              " '__copy__',\n",
              " '__deepcopy__',\n",
              " '__delattr__',\n",
              " '__delitem__',\n",
              " '__dict__',\n",
              " '__dir__',\n",
              " '__div__',\n",
              " '__doc__',\n",
              " '__eq__',\n",
              " '__finalize__',\n",
              " '__floordiv__',\n",
              " '__format__',\n",
              " '__ge__',\n",
              " '__getattr__',\n",
              " '__getattribute__',\n",
              " '__getitem__',\n",
              " '__getstate__',\n",
              " '__gt__',\n",
              " '__hash__',\n",
              " '__iadd__',\n",
              " '__iand__',\n",
              " '__ifloordiv__',\n",
              " '__imod__',\n",
              " '__imul__',\n",
              " '__init__',\n",
              " '__init_subclass__',\n",
              " '__invert__',\n",
              " '__ior__',\n",
              " '__ipow__',\n",
              " '__isub__',\n",
              " '__iter__',\n",
              " '__itruediv__',\n",
              " '__ixor__',\n",
              " '__le__',\n",
              " '__len__',\n",
              " '__lt__',\n",
              " '__matmul__',\n",
              " '__mod__',\n",
              " '__module__',\n",
              " '__mul__',\n",
              " '__ne__',\n",
              " '__neg__',\n",
              " '__new__',\n",
              " '__nonzero__',\n",
              " '__or__',\n",
              " '__pos__',\n",
              " '__pow__',\n",
              " '__radd__',\n",
              " '__rand__',\n",
              " '__rdiv__',\n",
              " '__reduce__',\n",
              " '__reduce_ex__',\n",
              " '__repr__',\n",
              " '__rfloordiv__',\n",
              " '__rmatmul__',\n",
              " '__rmod__',\n",
              " '__rmul__',\n",
              " '__ror__',\n",
              " '__round__',\n",
              " '__rpow__',\n",
              " '__rsub__',\n",
              " '__rtruediv__',\n",
              " '__rxor__',\n",
              " '__setattr__',\n",
              " '__setitem__',\n",
              " '__setstate__',\n",
              " '__sizeof__',\n",
              " '__str__',\n",
              " '__sub__',\n",
              " '__subclasshook__',\n",
              " '__truediv__',\n",
              " '__weakref__',\n",
              " '__xor__',\n",
              " '_accessors',\n",
              " '_add_numeric_operations',\n",
              " '_add_series_or_dataframe_operations',\n",
              " '_agg_by_level',\n",
              " '_agg_examples_doc',\n",
              " '_agg_summary_and_see_also_doc',\n",
              " '_aggregate',\n",
              " '_aggregate_multiple_funcs',\n",
              " '_align_frame',\n",
              " '_align_series',\n",
              " '_box_col_values',\n",
              " '_box_item_values',\n",
              " '_builtin_table',\n",
              " '_check_inplace_setting',\n",
              " '_check_is_chained_assignment_possible',\n",
              " '_check_label_or_level_ambiguity',\n",
              " '_check_setitem_copy',\n",
              " '_clear_item_cache',\n",
              " '_clip_with_one_bound',\n",
              " '_clip_with_scalar',\n",
              " '_combine_frame',\n",
              " '_combine_match_index',\n",
              " '_consolidate',\n",
              " '_consolidate_inplace',\n",
              " '_construct_axes_dict',\n",
              " '_construct_axes_dict_from',\n",
              " '_construct_axes_from_arguments',\n",
              " '_construct_result',\n",
              " '_constructor',\n",
              " '_constructor_expanddim',\n",
              " '_constructor_sliced',\n",
              " '_convert',\n",
              " '_count_level',\n",
              " '_create_indexer',\n",
              " '_cython_table',\n",
              " '_deprecations',\n",
              " '_dir_additions',\n",
              " '_dir_deletions',\n",
              " '_drop_axis',\n",
              " '_drop_labels_or_levels',\n",
              " '_ensure_valid_index',\n",
              " '_find_valid_index',\n",
              " '_from_arrays',\n",
              " '_from_axes',\n",
              " '_get_agg_axis',\n",
              " '_get_axis',\n",
              " '_get_axis_name',\n",
              " '_get_axis_number',\n",
              " '_get_axis_resolvers',\n",
              " '_get_block_manager_axis',\n",
              " '_get_bool_data',\n",
              " '_get_cacher',\n",
              " '_get_cleaned_column_resolvers',\n",
              " '_get_cython_func',\n",
              " '_get_index_resolvers',\n",
              " '_get_item_cache',\n",
              " '_get_label_or_level_values',\n",
              " '_get_numeric_data',\n",
              " '_get_value',\n",
              " '_get_values',\n",
              " '_getitem_bool_array',\n",
              " '_getitem_multilevel',\n",
              " '_gotitem',\n",
              " '_iget_item_cache',\n",
              " '_indexed_same',\n",
              " '_info_axis',\n",
              " '_info_axis_name',\n",
              " '_info_axis_number',\n",
              " '_info_repr',\n",
              " '_init_mgr',\n",
              " '_internal_get_values',\n",
              " '_internal_names',\n",
              " '_internal_names_set',\n",
              " '_is_builtin_func',\n",
              " '_is_cached',\n",
              " '_is_copy',\n",
              " '_is_datelike_mixed_type',\n",
              " '_is_homogeneous_type',\n",
              " '_is_label_or_level_reference',\n",
              " '_is_label_reference',\n",
              " '_is_level_reference',\n",
              " '_is_mixed_type',\n",
              " '_is_numeric_mixed_type',\n",
              " '_is_view',\n",
              " '_ix',\n",
              " '_ixs',\n",
              " '_join_compat',\n",
              " '_maybe_cache_changed',\n",
              " '_maybe_update_cacher',\n",
              " '_metadata',\n",
              " '_needs_reindex_multi',\n",
              " '_obj_with_exclusions',\n",
              " '_protect_consolidate',\n",
              " '_reduce',\n",
              " '_reindex_axes',\n",
              " '_reindex_columns',\n",
              " '_reindex_index',\n",
              " '_reindex_multi',\n",
              " '_reindex_with_indexers',\n",
              " '_repr_data_resource_',\n",
              " '_repr_fits_horizontal_',\n",
              " '_repr_fits_vertical_',\n",
              " '_repr_html_',\n",
              " '_repr_latex_',\n",
              " '_reset_cache',\n",
              " '_reset_cacher',\n",
              " '_sanitize_column',\n",
              " '_selected_obj',\n",
              " '_selection',\n",
              " '_selection_list',\n",
              " '_selection_name',\n",
              " '_series',\n",
              " '_set_as_cached',\n",
              " '_set_axis',\n",
              " '_set_axis_name',\n",
              " '_set_is_copy',\n",
              " '_set_item',\n",
              " '_set_value',\n",
              " '_setitem_array',\n",
              " '_setitem_frame',\n",
              " '_setitem_slice',\n",
              " '_setup_axes',\n",
              " '_slice',\n",
              " '_stat_axis',\n",
              " '_stat_axis_name',\n",
              " '_stat_axis_number',\n",
              " '_take_with_is_copy',\n",
              " '_to_dict_of_blocks',\n",
              " '_try_aggregate_string_function',\n",
              " '_typ',\n",
              " '_update_inplace',\n",
              " '_validate_dtype',\n",
              " '_values',\n",
              " '_where',\n",
              " '_xs',\n",
              " 'abs',\n",
              " 'add',\n",
              " 'add_prefix',\n",
              " 'add_suffix',\n",
              " 'agg',\n",
              " 'aggregate',\n",
              " 'align',\n",
              " 'all',\n",
              " 'any',\n",
              " 'aperture',\n",
              " 'append',\n",
              " 'apply',\n",
              " 'applymap',\n",
              " 'asfreq',\n",
              " 'asof',\n",
              " 'assign',\n",
              " 'astype',\n",
              " 'at',\n",
              " 'at_time',\n",
              " 'attrs',\n",
              " 'auto_focus',\n",
              " 'axes',\n",
              " 'battery_capacity',\n",
              " 'battery_type',\n",
              " 'between_time',\n",
              " 'bfill',\n",
              " 'bool',\n",
              " 'boxplot',\n",
              " 'brand_rank',\n",
              " 'clip',\n",
              " 'columns',\n",
              " 'combine',\n",
              " 'combine_first',\n",
              " 'convert_dtypes',\n",
              " 'copy',\n",
              " 'corr',\n",
              " 'corrwith',\n",
              " 'count',\n",
              " 'cov',\n",
              " 'cummax',\n",
              " 'cummin',\n",
              " 'cumprod',\n",
              " 'cumsum',\n",
              " 'describe',\n",
              " 'diff',\n",
              " 'display_resolution',\n",
              " 'display_type',\n",
              " 'div',\n",
              " 'divide',\n",
              " 'dot',\n",
              " 'drop',\n",
              " 'drop_duplicates',\n",
              " 'droplevel',\n",
              " 'dropna',\n",
              " 'dtypes',\n",
              " 'duplicated',\n",
              " 'empty',\n",
              " 'eq',\n",
              " 'equals',\n",
              " 'eval',\n",
              " 'ewm',\n",
              " 'expandable_memory',\n",
              " 'expanding',\n",
              " 'explode',\n",
              " 'ffill',\n",
              " 'fillna',\n",
              " 'filter',\n",
              " 'first',\n",
              " 'first_valid_index',\n",
              " 'flash_type',\n",
              " 'floordiv',\n",
              " 'frames_per_second',\n",
              " 'from_dict',\n",
              " 'from_records',\n",
              " 'front_camera_resolution',\n",
              " 'ge',\n",
              " 'get',\n",
              " 'gpu_rank',\n",
              " 'groupby',\n",
              " 'gt',\n",
              " 'head',\n",
              " 'hist',\n",
              " 'iat',\n",
              " 'idxmax',\n",
              " 'idxmin',\n",
              " 'iloc',\n",
              " 'index',\n",
              " 'infer_objects',\n",
              " 'info',\n",
              " 'insert',\n",
              " 'internal_memory',\n",
              " 'interpolate',\n",
              " 'is_liked',\n",
              " 'isin',\n",
              " 'isna',\n",
              " 'isnull',\n",
              " 'items',\n",
              " 'iteritems',\n",
              " 'iterrows',\n",
              " 'itertuples',\n",
              " 'join',\n",
              " 'keys',\n",
              " 'kurt',\n",
              " 'kurtosis',\n",
              " 'last',\n",
              " 'last_valid_index',\n",
              " 'le',\n",
              " 'loc',\n",
              " 'lookup',\n",
              " 'lt',\n",
              " 'mad',\n",
              " 'mask',\n",
              " 'max',\n",
              " 'mean',\n",
              " 'median',\n",
              " 'melt',\n",
              " 'memory_usage',\n",
              " 'merge',\n",
              " 'micro_sd_slot',\n",
              " 'min',\n",
              " 'mod',\n",
              " 'mode',\n",
              " 'mul',\n",
              " 'multiply',\n",
              " 'ndim',\n",
              " 'ne',\n",
              " 'nlargest',\n",
              " 'no_of_cores',\n",
              " 'no_of_reviews_in_gsmarena_in_week',\n",
              " 'notna',\n",
              " 'notnull',\n",
              " 'nsmallest',\n",
              " 'nunique',\n",
              " 'os',\n",
              " 'pct_change',\n",
              " 'phone_height',\n",
              " 'phone_width',\n",
              " 'pipe',\n",
              " 'pivot',\n",
              " 'pivot_table',\n",
              " 'plot',\n",
              " 'pop',\n",
              " 'pow',\n",
              " 'price',\n",
              " 'primary_camera_resolution',\n",
              " 'processor_frequency',\n",
              " 'processor_rank',\n",
              " 'prod',\n",
              " 'product',\n",
              " 'quantile',\n",
              " 'query',\n",
              " 'radd',\n",
              " 'ram_memory',\n",
              " 'rank',\n",
              " 'rdiv',\n",
              " 'reindex',\n",
              " 'reindex_like',\n",
              " 'removable_battery',\n",
              " 'rename',\n",
              " 'rename_axis',\n",
              " 'reorder_levels',\n",
              " 'replace',\n",
              " 'resample',\n",
              " 'reset_index',\n",
              " 'rfloordiv',\n",
              " 'rmod',\n",
              " 'rmul',\n",
              " 'rolling',\n",
              " 'round',\n",
              " 'rpow',\n",
              " 'rsub',\n",
              " 'rtruediv',\n",
              " 'sample',\n",
              " 'screen_pixel_density',\n",
              " 'screen_protection',\n",
              " 'screen_size',\n",
              " 'select_dtypes',\n",
              " 'sem',\n",
              " 'set_axis',\n",
              " 'set_index',\n",
              " 'shape',\n",
              " 'shift',\n",
              " 'sim_size',\n",
              " 'sim_type',\n",
              " 'size',\n",
              " 'skew',\n",
              " 'slice_shift',\n",
              " 'sort_index',\n",
              " 'sort_values',\n",
              " 'squeeze',\n",
              " 'stack',\n",
              " 'stand_by_time',\n",
              " 'std',\n",
              " 'style',\n",
              " 'sub',\n",
              " 'subtract',\n",
              " 'sum',\n",
              " 'swapaxes',\n",
              " 'swaplevel',\n",
              " 'tail',\n",
              " 'take',\n",
              " 'talk_time',\n",
              " 'thickness',\n",
              " 'to_clipboard',\n",
              " 'to_csv',\n",
              " 'to_dict',\n",
              " 'to_excel',\n",
              " 'to_feather',\n",
              " 'to_gbq',\n",
              " 'to_hdf',\n",
              " 'to_html',\n",
              " 'to_json',\n",
              " 'to_latex',\n",
              " 'to_markdown',\n",
              " 'to_numpy',\n",
              " 'to_parquet',\n",
              " 'to_period',\n",
              " 'to_pickle',\n",
              " 'to_records',\n",
              " 'to_sql',\n",
              " 'to_stata',\n",
              " 'to_string',\n",
              " 'to_timestamp',\n",
              " 'to_xarray',\n",
              " 'transform',\n",
              " 'transpose',\n",
              " 'truediv',\n",
              " 'truncate',\n",
              " 'tshift',\n",
              " 'tz_convert',\n",
              " 'tz_localize',\n",
              " 'unstack',\n",
              " 'update',\n",
              " 'usb_type',\n",
              " 'values',\n",
              " 'var',\n",
              " 'version',\n",
              " 'video_resolution',\n",
              " 'water_proof_rate',\n",
              " 'weight',\n",
              " 'where',\n",
              " 'xs']"
            ]
          },
          "metadata": {
            "tags": []
          },
          "execution_count": 108
        }
      ]
    },
    {
      "cell_type": "code",
      "metadata": {
        "id": "JKUCbFlc04fb",
        "outputId": "469647fd-5d26-4dc8-f4b6-1dbc26c08083",
        "colab": {
          "base_uri": "https://localhost:8080/",
          "height": 34
        }
      },
      "source": [
        "len(data)"
      ],
      "execution_count": null,
      "outputs": [
        {
          "output_type": "execute_result",
          "data": {
            "text/plain": [
              "109"
            ]
          },
          "metadata": {
            "tags": []
          },
          "execution_count": 109
        }
      ]
    },
    {
      "cell_type": "code",
      "metadata": {
        "id": "Gm3u6gAB077y",
        "outputId": "1305c4b5-8f46-43f6-9304-ce0a3ad864ee",
        "colab": {
          "base_uri": "https://localhost:8080/",
          "height": 34
        }
      },
      "source": [
        "data.shape"
      ],
      "execution_count": null,
      "outputs": [
        {
          "output_type": "execute_result",
          "data": {
            "text/plain": [
              "(109, 40)"
            ]
          },
          "metadata": {
            "tags": []
          },
          "execution_count": 110
        }
      ]
    },
    {
      "cell_type": "code",
      "metadata": {
        "id": "7ULxKOd31AF_",
        "outputId": "9090aa64-288a-47f0-c473-07150e6b3af3",
        "colab": {
          "base_uri": "https://localhost:8080/",
          "height": 729
        }
      },
      "source": [
        "data.loc[5]"
      ],
      "execution_count": null,
      "outputs": [
        {
          "output_type": "execute_result",
          "data": {
            "text/plain": [
              "sim_type                                0.0\n",
              "aperture                               14.0\n",
              "gpu_rank                               55.0\n",
              "weight                                179.0\n",
              "stand_by_time                         280.0\n",
              "processor_frequency                     1.3\n",
              "thickness                               7.9\n",
              "flash_type                              5.0\n",
              "front_camera_resolution                 5.0\n",
              "auto_focus                              3.0\n",
              "screen_size                             5.5\n",
              "frames_per_second                      30.0\n",
              "FM                                      3.0\n",
              "no_of_reviews_in_gsmarena_in_week       6.0\n",
              "os                                      0.0\n",
              "phone_height                          150.0\n",
              "screen_protection                       5.0\n",
              "sim_size                                3.0\n",
              "price                                5999.0\n",
              "talk_time                              22.0\n",
              "video_resolution                      720.0\n",
              "display_resolution                      0.0\n",
              "removable_battery                       0.0\n",
              "display_type                            2.0\n",
              "primary_camera_resolution               8.0\n",
              "battery_type                            1.0\n",
              "ram_memory                              1.0\n",
              "internal_memory                         7.0\n",
              "brand_rank                              4.0\n",
              "no_of_cores                             6.0\n",
              "micro_sd_slot                           4.0\n",
              "screen_pixel_density                    7.0\n",
              "water_proof_rate                        3.0\n",
              "phone_width                            71.0\n",
              "expandable_memory                      32.0\n",
              "version                                 6.0\n",
              "usb_type                                3.0\n",
              "battery_capacity                     2900.0\n",
              "processor_rank                        165.0\n",
              "is_liked                                0.0\n",
              "Name: 5, dtype: float64"
            ]
          },
          "metadata": {
            "tags": []
          },
          "execution_count": 112
        }
      ]
    },
    {
      "cell_type": "code",
      "metadata": {
        "id": "RhcQtB0L1IUV"
      },
      "source": [
        "data_short = data[0:10]"
      ],
      "execution_count": null,
      "outputs": []
    },
    {
      "cell_type": "code",
      "metadata": {
        "id": "pDezb9KZ1NhL",
        "outputId": "313c8957-0f81-4679-9813-d6bf3da02f40",
        "colab": {
          "base_uri": "https://localhost:8080/",
          "height": 34
        }
      },
      "source": [
        "data_short.shape"
      ],
      "execution_count": null,
      "outputs": [
        {
          "output_type": "execute_result",
          "data": {
            "text/plain": [
              "(10, 40)"
            ]
          },
          "metadata": {
            "tags": []
          },
          "execution_count": 114
        }
      ]
    },
    {
      "cell_type": "code",
      "metadata": {
        "id": "2fuRbsJz1SqW"
      },
      "source": [
        "data_thin = data[['stand_by_time','expandable_memory','price','battery_capacity','is_liked']]"
      ],
      "execution_count": null,
      "outputs": []
    },
    {
      "cell_type": "code",
      "metadata": {
        "id": "ggbNVeg31YCg",
        "outputId": "f162479e-fd13-45e8-e820-19a2b464e34a",
        "colab": {
          "base_uri": "https://localhost:8080/",
          "height": 206
        }
      },
      "source": [
        "data_thin.head()"
      ],
      "execution_count": null,
      "outputs": [
        {
          "output_type": "execute_result",
          "data": {
            "text/html": [
              "<div>\n",
              "<style scoped>\n",
              "    .dataframe tbody tr th:only-of-type {\n",
              "        vertical-align: middle;\n",
              "    }\n",
              "\n",
              "    .dataframe tbody tr th {\n",
              "        vertical-align: top;\n",
              "    }\n",
              "\n",
              "    .dataframe thead th {\n",
              "        text-align: right;\n",
              "    }\n",
              "</style>\n",
              "<table border=\"1\" class=\"dataframe\">\n",
              "  <thead>\n",
              "    <tr style=\"text-align: right;\">\n",
              "      <th></th>\n",
              "      <th>stand_by_time</th>\n",
              "      <th>expandable_memory</th>\n",
              "      <th>price</th>\n",
              "      <th>battery_capacity</th>\n",
              "      <th>is_liked</th>\n",
              "    </tr>\n",
              "  </thead>\n",
              "  <tbody>\n",
              "    <tr>\n",
              "      <th>0</th>\n",
              "      <td>250</td>\n",
              "      <td>64.0</td>\n",
              "      <td>3870</td>\n",
              "      <td>2000</td>\n",
              "      <td>1</td>\n",
              "    </tr>\n",
              "    <tr>\n",
              "      <th>1</th>\n",
              "      <td>300</td>\n",
              "      <td>32.0</td>\n",
              "      <td>4059</td>\n",
              "      <td>2000</td>\n",
              "      <td>1</td>\n",
              "    </tr>\n",
              "    <tr>\n",
              "      <th>2</th>\n",
              "      <td>329</td>\n",
              "      <td>32.0</td>\n",
              "      <td>4777</td>\n",
              "      <td>2500</td>\n",
              "      <td>0</td>\n",
              "    </tr>\n",
              "    <tr>\n",
              "      <th>3</th>\n",
              "      <td>385</td>\n",
              "      <td>32.0</td>\n",
              "      <td>5799</td>\n",
              "      <td>3000</td>\n",
              "      <td>1</td>\n",
              "    </tr>\n",
              "    <tr>\n",
              "      <th>4</th>\n",
              "      <td>385</td>\n",
              "      <td>32.0</td>\n",
              "      <td>5990</td>\n",
              "      <td>3000</td>\n",
              "      <td>0</td>\n",
              "    </tr>\n",
              "  </tbody>\n",
              "</table>\n",
              "</div>"
            ],
            "text/plain": [
              "   stand_by_time  expandable_memory  price  battery_capacity  is_liked\n",
              "0            250               64.0   3870              2000         1\n",
              "1            300               32.0   4059              2000         1\n",
              "2            329               32.0   4777              2500         0\n",
              "3            385               32.0   5799              3000         1\n",
              "4            385               32.0   5990              3000         0"
            ]
          },
          "metadata": {
            "tags": []
          },
          "execution_count": 116
        }
      ]
    },
    {
      "cell_type": "code",
      "metadata": {
        "id": "ECmzMWE41dBo",
        "outputId": "df5fc2e5-cdd9-4487-df70-770498ff0991",
        "colab": {
          "base_uri": "https://localhost:8080/",
          "height": 206
        }
      },
      "source": [
        "data_liked = data_thin[data_thin['is_liked']==1]\n",
        "data_liked.head()"
      ],
      "execution_count": null,
      "outputs": [
        {
          "output_type": "execute_result",
          "data": {
            "text/html": [
              "<div>\n",
              "<style scoped>\n",
              "    .dataframe tbody tr th:only-of-type {\n",
              "        vertical-align: middle;\n",
              "    }\n",
              "\n",
              "    .dataframe tbody tr th {\n",
              "        vertical-align: top;\n",
              "    }\n",
              "\n",
              "    .dataframe thead th {\n",
              "        text-align: right;\n",
              "    }\n",
              "</style>\n",
              "<table border=\"1\" class=\"dataframe\">\n",
              "  <thead>\n",
              "    <tr style=\"text-align: right;\">\n",
              "      <th></th>\n",
              "      <th>stand_by_time</th>\n",
              "      <th>expandable_memory</th>\n",
              "      <th>price</th>\n",
              "      <th>battery_capacity</th>\n",
              "      <th>is_liked</th>\n",
              "    </tr>\n",
              "  </thead>\n",
              "  <tbody>\n",
              "    <tr>\n",
              "      <th>0</th>\n",
              "      <td>250</td>\n",
              "      <td>64.0</td>\n",
              "      <td>3870</td>\n",
              "      <td>2000</td>\n",
              "      <td>1</td>\n",
              "    </tr>\n",
              "    <tr>\n",
              "      <th>1</th>\n",
              "      <td>300</td>\n",
              "      <td>32.0</td>\n",
              "      <td>4059</td>\n",
              "      <td>2000</td>\n",
              "      <td>1</td>\n",
              "    </tr>\n",
              "    <tr>\n",
              "      <th>3</th>\n",
              "      <td>385</td>\n",
              "      <td>32.0</td>\n",
              "      <td>5799</td>\n",
              "      <td>3000</td>\n",
              "      <td>1</td>\n",
              "    </tr>\n",
              "    <tr>\n",
              "      <th>6</th>\n",
              "      <td>230</td>\n",
              "      <td>128.0</td>\n",
              "      <td>5999</td>\n",
              "      <td>1700</td>\n",
              "      <td>1</td>\n",
              "    </tr>\n",
              "    <tr>\n",
              "      <th>7</th>\n",
              "      <td>182</td>\n",
              "      <td>32.0</td>\n",
              "      <td>6599</td>\n",
              "      <td>2000</td>\n",
              "      <td>1</td>\n",
              "    </tr>\n",
              "  </tbody>\n",
              "</table>\n",
              "</div>"
            ],
            "text/plain": [
              "   stand_by_time  expandable_memory  price  battery_capacity  is_liked\n",
              "0            250               64.0   3870              2000         1\n",
              "1            300               32.0   4059              2000         1\n",
              "3            385               32.0   5799              3000         1\n",
              "6            230              128.0   5999              1700         1\n",
              "7            182               32.0   6599              2000         1"
            ]
          },
          "metadata": {
            "tags": []
          },
          "execution_count": 117
        }
      ]
    },
    {
      "cell_type": "code",
      "metadata": {
        "id": "--87c88a1kzi",
        "outputId": "ca1e7951-2e61-4da0-f46a-5f5f9d713300",
        "colab": {
          "base_uri": "https://localhost:8080/",
          "height": 34
        }
      },
      "source": [
        "data_thin['price'].min()"
      ],
      "execution_count": null,
      "outputs": [
        {
          "output_type": "execute_result",
          "data": {
            "text/plain": [
              "3870"
            ]
          },
          "metadata": {
            "tags": []
          },
          "execution_count": 118
        }
      ]
    },
    {
      "cell_type": "code",
      "metadata": {
        "id": "QOfijnst1nlX",
        "outputId": "e9601ae5-2c12-4fe5-81df-a49226e3a57d",
        "colab": {
          "base_uri": "https://localhost:8080/",
          "height": 34
        }
      },
      "source": [
        "data_thin['price'].max()\n",
        "data_thin['price'].mean()\n"
      ],
      "execution_count": null,
      "outputs": [
        {
          "output_type": "execute_result",
          "data": {
            "text/plain": [
              "19373.211009174312"
            ]
          },
          "metadata": {
            "tags": []
          },
          "execution_count": 119
        }
      ]
    },
    {
      "cell_type": "code",
      "metadata": {
        "id": "w7ryB0J91sLt",
        "outputId": "915f2a24-b0be-406d-cd68-65c7f9934f33",
        "colab": {
          "base_uri": "https://localhost:8080/",
          "height": 173
        }
      },
      "source": [
        "data_thin['price'].describe()"
      ],
      "execution_count": null,
      "outputs": [
        {
          "output_type": "execute_result",
          "data": {
            "text/plain": [
              "count      109.000000\n",
              "mean     19373.211009\n",
              "std      14039.197220\n",
              "min       3870.000000\n",
              "25%       8999.000000\n",
              "50%      14614.000000\n",
              "75%      24999.000000\n",
              "max      64500.000000\n",
              "Name: price, dtype: float64"
            ]
          },
          "metadata": {
            "tags": []
          },
          "execution_count": 120
        }
      ]
    },
    {
      "cell_type": "code",
      "metadata": {
        "id": "c2rz9Xax11z4",
        "outputId": "38bd0829-698d-45ab-aa4f-c21cc53bfc96",
        "colab": {
          "base_uri": "https://localhost:8080/",
          "height": 34
        }
      },
      "source": [
        "g = data_thin.groupby(['is_liked'])\n",
        "print(g)"
      ],
      "execution_count": null,
      "outputs": [
        {
          "output_type": "stream",
          "text": [
            "<pandas.core.groupby.generic.DataFrameGroupBy object at 0x7fac19b29358>\n"
          ],
          "name": "stdout"
        }
      ]
    },
    {
      "cell_type": "code",
      "metadata": {
        "id": "Xujk1tUn18a5",
        "outputId": "325808ba-f6ef-4a56-b07e-47046396199f",
        "colab": {
          "base_uri": "https://localhost:8080/",
          "height": 607
        }
      },
      "source": [
        "for key, df_key in g:\n",
        "  print(key)\n",
        "  print(df_key)"
      ],
      "execution_count": null,
      "outputs": [
        {
          "output_type": "stream",
          "text": [
            "0\n",
            "     stand_by_time  expandable_memory  price  battery_capacity  is_liked\n",
            "2              329               32.0   4777              2500         0\n",
            "4              385               32.0   5990              3000         0\n",
            "5              280               32.0   5999              2900         0\n",
            "11             300              128.0   6990              2600         0\n",
            "22             354              128.0   7999              2400         0\n",
            "38             490               32.0   9999              2100         0\n",
            "53             345               64.0  14300              2950         0\n",
            "60             840                0.0  15689              4100         0\n",
            "74             390              128.0  21999              2800         0\n",
            "77             620              128.0  22999              3100         0\n",
            "78             618                0.0  24499              3600         0\n",
            "80             598                0.0  24999              3000         0\n",
            "83             504              200.0  25500              2600         0\n",
            "90             500                0.0  34999              3760         0\n",
            "91             240                0.0  34999              1624         0\n",
            "95             580              256.0  37766              2840         0\n",
            "108            400                0.0  27999              3000         0\n",
            "1\n",
            "     stand_by_time  expandable_memory  price  battery_capacity  is_liked\n",
            "0              250               64.0   3870              2000         1\n",
            "1              300               32.0   4059              2000         1\n",
            "3              385               32.0   5799              3000         1\n",
            "6              230              128.0   5999              1700         1\n",
            "7              182               32.0   6599              2000         1\n",
            "..             ...                ...    ...               ...       ...\n",
            "103            600              256.0  52699              3430         1\n",
            "104            540              256.0  54900              3410         1\n",
            "105            400              200.0  56900              3600         1\n",
            "106            384                0.0  59000              2750         1\n",
            "107            250                0.0  64500              1810         1\n",
            "\n",
            "[92 rows x 5 columns]\n"
          ],
          "name": "stdout"
        }
      ]
    },
    {
      "cell_type": "code",
      "metadata": {
        "id": "JUNB4KEP2CLr",
        "outputId": "dbbf0577-b729-42b3-c68a-3758cf650c8d",
        "colab": {
          "base_uri": "https://localhost:8080/",
          "height": 143
        }
      },
      "source": [
        "g.mean()"
      ],
      "execution_count": null,
      "outputs": [
        {
          "output_type": "execute_result",
          "data": {
            "text/html": [
              "<div>\n",
              "<style scoped>\n",
              "    .dataframe tbody tr th:only-of-type {\n",
              "        vertical-align: middle;\n",
              "    }\n",
              "\n",
              "    .dataframe tbody tr th {\n",
              "        vertical-align: top;\n",
              "    }\n",
              "\n",
              "    .dataframe thead th {\n",
              "        text-align: right;\n",
              "    }\n",
              "</style>\n",
              "<table border=\"1\" class=\"dataframe\">\n",
              "  <thead>\n",
              "    <tr style=\"text-align: right;\">\n",
              "      <th></th>\n",
              "      <th>stand_by_time</th>\n",
              "      <th>expandable_memory</th>\n",
              "      <th>price</th>\n",
              "      <th>battery_capacity</th>\n",
              "    </tr>\n",
              "    <tr>\n",
              "      <th>is_liked</th>\n",
              "      <th></th>\n",
              "      <th></th>\n",
              "      <th></th>\n",
              "      <th></th>\n",
              "    </tr>\n",
              "  </thead>\n",
              "  <tbody>\n",
              "    <tr>\n",
              "      <th>0</th>\n",
              "      <td>457.235294</td>\n",
              "      <td>68.235294</td>\n",
              "      <td>19264.823529</td>\n",
              "      <td>2874.941176</td>\n",
              "    </tr>\n",
              "    <tr>\n",
              "      <th>1</th>\n",
              "      <td>394.945652</td>\n",
              "      <td>111.217391</td>\n",
              "      <td>19393.239130</td>\n",
              "      <td>2835.652174</td>\n",
              "    </tr>\n",
              "  </tbody>\n",
              "</table>\n",
              "</div>"
            ],
            "text/plain": [
              "          stand_by_time  expandable_memory         price  battery_capacity\n",
              "is_liked                                                                  \n",
              "0            457.235294          68.235294  19264.823529       2874.941176\n",
              "1            394.945652         111.217391  19393.239130       2835.652174"
            ]
          },
          "metadata": {
            "tags": []
          },
          "execution_count": 124
        }
      ]
    },
    {
      "cell_type": "code",
      "metadata": {
        "id": "bOtJNEPYyk8I",
        "outputId": "61168937-4e2f-4225-dbfc-862ea5be7d1c",
        "colab": {
          "base_uri": "https://localhost:8080/",
          "height": 285
        }
      },
      "source": [
        "ax = sns.scatterplot(x=\"stand_by_time\",y=\"battery_capacity\",data=data)"
      ],
      "execution_count": null,
      "outputs": [
        {
          "output_type": "display_data",
          "data": {
            "image/png": "[encoded data removed]",
            "text/plain": [
              "<Figure size 432x288 with 1 Axes>"
            ]
          },
          "metadata": {
            "tags": []
          }
        }
      ]
    },
    {
      "cell_type": "code",
      "metadata": {
        "id": "94LYt3dxzJin",
        "outputId": "ca05f1b8-df79-4a20-f713-928bc97f58dd",
        "colab": {
          "base_uri": "https://localhost:8080/",
          "height": 285
        }
      },
      "source": [
        "ax = sns.scatterplot(x=\"stand_by_time\",y=\"battery_capacity\",hue=\"thickness\",data=data)"
      ],
      "execution_count": null,
      "outputs": [
        {
          "output_type": "display_data",
          "data": {
            "image/png": "[encoded data removed]",
            "text/plain": [
              "<Figure size 432x288 with 1 Axes>"
            ]
          },
          "metadata": {
            "tags": []
          }
        }
      ]
    },
    {
      "cell_type": "code",
      "metadata": {
        "id": "chbvXfmvzVFy",
        "outputId": "da6fe78d-84c0-4dc9-c4b5-c3530062aa7f",
        "colab": {
          "base_uri": "https://localhost:8080/",
          "height": 285
        }
      },
      "source": [
        "ax = sns.distplot(data['stand_by_time']) #histogram"
      ],
      "execution_count": null,
      "outputs": [
        {
          "output_type": "display_data",
          "data": {
            "image/png": "[encoded data removed]",
            "text/plain": [
              "<Figure size 432x288 with 1 Axes>"
            ]
          },
          "metadata": {
            "tags": []
          }
        }
      ]
    },
    {
      "cell_type": "code",
      "metadata": {
        "id": "WUMySBrtzdx5",
        "outputId": "8f9619f4-88e1-4116-fc7e-020ccb1aa5a8",
        "colab": {
          "base_uri": "https://localhost:8080/",
          "height": 285
        }
      },
      "source": [
        "ax = sns.boxplot(x=\"is_liked\",y=\"battery_capacity\",data=data) "
      ],
      "execution_count": null,
      "outputs": [
        {
          "output_type": "display_data",
          "data": {
            "image/png": "[encoded data removed]",
            "text/plain": [
              "<Figure size 432x288 with 1 Axes>"
            ]
          },
          "metadata": {
            "tags": []
          }
        }
      ]
    },
    {
      "cell_type": "code",
      "metadata": {
        "id": "q4kkV7jDzoSc",
        "outputId": "cf6d5acd-1c6e-42d3-905a-e1c86c2fdb53",
        "colab": {
          "base_uri": "https://localhost:8080/",
          "height": 285
        }
      },
      "source": [
        "ax = sns.boxplot(x=\"expandable_memory\",y=\"price\",data=data)"
      ],
      "execution_count": null,
      "outputs": [
        {
          "output_type": "display_data",
          "data": {
            "image/png": "[encoded data removed]",
            "text/plain": [
              "<Figure size 432x288 with 1 Axes>"
            ]
          },
          "metadata": {
            "tags": []
          }
        }
      ]
    },
    {
      "cell_type": "code",
      "metadata": {
        "id": "ocFyw7vLzzw5",
        "outputId": "ddb8dd16-e11f-4c70-c8e8-919d5f4fb090",
        "colab": {
          "base_uri": "https://localhost:8080/",
          "height": 364
        }
      },
      "source": [
        "uniform_data = np.random.random((10,12))\n",
        "print(uniform_data)"
      ],
      "execution_count": null,
      "outputs": [
        {
          "output_type": "stream",
          "text": [
            "[[0.74230162 0.69758744 0.58817543 0.71478934 0.73730596 0.11010587\n",
            "  0.44495655 0.24692528 0.63079839 0.09639201 0.52938919 0.45652453]\n",
            " [0.53346278 0.77981269 0.77910279 0.27582307 0.33232135 0.18812173\n",
            "  0.85005632 0.23873386 0.25131408 0.41274656 0.01745146 0.44585905]\n",
            " [0.30931023 0.71370686 0.19881361 0.08599539 0.36821669 0.69828576\n",
            "  0.67645347 0.9954706  0.24755895 0.18830551 0.18302912 0.21491393]\n",
            " [0.45332868 0.09812464 0.43941834 0.69028494 0.41837264 0.63988645\n",
            "  0.63131853 0.62357477 0.77764792 0.04701578 0.40491476 0.54486175]\n",
            " [0.5698094  0.85515008 0.69384305 0.79941856 0.49223349 0.67677213\n",
            "  0.33212899 0.55825523 0.31988134 0.48983263 0.6822756  0.91186476]\n",
            " [0.65773017 0.93428909 0.97265755 0.61341571 0.83340108 0.93051308\n",
            "  0.42333612 0.94861675 0.95820274 0.57657913 0.43500604 0.83173887]\n",
            " [0.17537282 0.81907607 0.18985041 0.10441436 0.09052298 0.28024315\n",
            "  0.2798521  0.50719898 0.78262614 0.48102808 0.80977229 0.64266838]\n",
            " [0.51444017 0.45816544 0.57639196 0.0743823  0.08052616 0.1072506\n",
            "  0.52000351 0.14511509 0.2345821  0.00479402 0.7070101  0.27973602]\n",
            " [0.00391214 0.98254067 0.91144079 0.60660191 0.9155383  0.87019675\n",
            "  0.93681859 0.95233939 0.77022671 0.3509756  0.78795858 0.54437722]\n",
            " [0.5234434  0.10301524 0.52780809 0.79035819 0.11562323 0.03145556\n",
            "  0.94469381 0.71933136 0.30497956 0.59873214 0.47689356 0.1774624 ]]\n"
          ],
          "name": "stdout"
        }
      ]
    },
    {
      "cell_type": "code",
      "metadata": {
        "id": "wALJxeTRz27u",
        "outputId": "a885fec8-3a85-4bb6-9629-462557fdfeb9",
        "colab": {
          "base_uri": "https://localhost:8080/",
          "height": 268
        }
      },
      "source": [
        "#heat map is important in deep learning\n",
        "ax= sns.heatmap(uniform_data)#12 columns as x-axis, 10 rows as y-axis"
      ],
      "execution_count": null,
      "outputs": [
        {
          "output_type": "display_data",
          "data": {
            "image/png": "[encoded data removed]",
            "text/plain": [
              "<Figure size 432x288 with 2 Axes>"
            ]
          },
          "metadata": {
            "tags": []
          }
        }
      ]
    },
    {
      "cell_type": "code",
      "metadata": {
        "id": "0ApvTOIgz_9v",
        "outputId": "02efc832-62df-4759-ae11-184cd213857c",
        "colab": {
          "base_uri": "https://localhost:8080/",
          "height": 268
        }
      },
      "source": [
        "ax= sns.heatmap(uniform_data,cmap=\"YlGnBu\")"
      ],
      "execution_count": null,
      "outputs": [
        {
          "output_type": "display_data",
          "data": {
            "image/png": "[encoded data removed]",
            "text/plain": [
              "<Figure size 432x288 with 2 Axes>"
            ]
          },
          "metadata": {
            "tags": []
          }
        }
      ]
    },
    {
      "cell_type": "code",
      "metadata": {
        "id": "RK2vEFHX0Uoq"
      },
      "source": [
        "import matplotlib.image as mpimg"
      ],
      "execution_count": null,
      "outputs": []
    },
    {
      "cell_type": "code",
      "metadata": {
        "id": "z-Pv3gvy0NCy",
        "outputId": "94e6a030-17d9-4abd-bfc9-7d20b7772569",
        "colab": {
          "base_uri": "https://localhost:8080/",
          "height": 868
        }
      },
      "source": [
        "img = mpimg.imread('image.png')\n",
        "print(img)"
      ],
      "execution_count": null,
      "outputs": [
        {
          "output_type": "stream",
          "text": [
            "[[[0.8 0.8 0.8]\n",
            "  [0.8 0.8 0.8]\n",
            "  [0.8 0.8 0.8]\n",
            "  ...\n",
            "  [0.8 0.8 0.8]\n",
            "  [0.8 0.8 0.8]\n",
            "  [0.8 0.8 0.8]]\n",
            "\n",
            " [[0.8 0.8 0.8]\n",
            "  [0.8 0.8 0.8]\n",
            "  [0.8 0.8 0.8]\n",
            "  ...\n",
            "  [0.8 0.8 0.8]\n",
            "  [0.8 0.8 0.8]\n",
            "  [0.8 0.8 0.8]]\n",
            "\n",
            " [[0.8 0.8 0.8]\n",
            "  [0.8 0.8 0.8]\n",
            "  [0.8 0.8 0.8]\n",
            "  ...\n",
            "  [0.8 0.8 0.8]\n",
            "  [0.8 0.8 0.8]\n",
            "  [0.8 0.8 0.8]]\n",
            "\n",
            " ...\n",
            "\n",
            " [[0.8 0.8 0.8]\n",
            "  [0.8 0.8 0.8]\n",
            "  [0.8 0.8 0.8]\n",
            "  ...\n",
            "  [0.8 0.8 0.8]\n",
            "  [0.8 0.8 0.8]\n",
            "  [0.8 0.8 0.8]]\n",
            "\n",
            " [[0.8 0.8 0.8]\n",
            "  [0.8 0.8 0.8]\n",
            "  [0.8 0.8 0.8]\n",
            "  ...\n",
            "  [0.8 0.8 0.8]\n",
            "  [0.8 0.8 0.8]\n",
            "  [0.8 0.8 0.8]]\n",
            "\n",
            " [[0.8 0.8 0.8]\n",
            "  [0.8 0.8 0.8]\n",
            "  [0.8 0.8 0.8]\n",
            "  ...\n",
            "  [0.8 0.8 0.8]\n",
            "  [0.8 0.8 0.8]\n",
            "  [0.8 0.8 0.8]]]\n"
          ],
          "name": "stdout"
        }
      ]
    },
    {
      "cell_type": "code",
      "metadata": {
        "id": "21AmAJGM0Y2F",
        "outputId": "eb31abe6-b504-4fec-b86c-f600022a1c13",
        "colab": {
          "base_uri": "https://localhost:8080/",
          "height": 264
        }
      },
      "source": [
        "imgplot = plt.imshow(img)"
      ],
      "execution_count": null,
      "outputs": [
        {
          "output_type": "display_data",
          "data": {
            "image/png": "[encoded data removed]",
            "text/plain": [
              "<Figure size 432x288 with 1 Axes>"
            ]
          },
          "metadata": {
            "tags": []
          }
        }
      ]
    },
    {
      "cell_type": "markdown",
      "metadata": {
        "id": "ezZEPOds2Xj3"
      },
      "source": [
        "Self Study:\n",
        "* Explore more with NumPy library\n",
        "* Study about various Graphs\n",
        "\n",
        "Self Practice:\n",
        "* Try creating Charts with other parameters in the csv, by manipulating the data with the help of library packages used"
      ]
    },
    {
      "cell_type": "markdown",
      "metadata": {
        "id": "zSp0tsD42SgC"
      },
      "source": [
        "# End of the Course, Thank you!"
      ]
    }
  ]
}